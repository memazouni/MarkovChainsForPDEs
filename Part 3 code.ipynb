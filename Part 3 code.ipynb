{
 "cells": [
  {
   "cell_type": "code",
   "execution_count": 1,
   "metadata": {},
   "outputs": [],
   "source": [
    "#! /usr/bin/env python\n",
    "\n",
    "import random\n",
    "import numpy as np\n",
    "import matplotlib.pyplot as plt\n",
    "import time\n",
    "from decimal import Decimal  # to deal with very large floats\n",
    "\n",
    "from PIL import Image\n",
    "from ipywidgets import interact, interactive, fixed, interact_manual\n",
    "from ipywidgets import interact\n",
    "import ipywidgets as widgets"
   ]
  },
  {
   "cell_type": "code",
   "execution_count": 2,
   "metadata": {},
   "outputs": [],
   "source": [
    "# define phi as f is at time t = 0 - in particular, phi defines border conditions\n",
    "def phi(x, y, L):\n",
    "    return (x + y)/(2*L)  # phi will always be between 0 and 1"
   ]
  },
  {
   "cell_type": "code",
   "execution_count": 3,
   "metadata": {},
   "outputs": [],
   "source": [
    "\n",
    "def t_iterations(x, y, L, t):\n",
    "    \"\"\"Simulate the random walk during n iterations, starting from point (x, y).\n",
    "    Return the product of the values taken by all branches during the walk from time 0 to t in a list of length t+1.\n",
    "    \"\"\"\n",
    "    values = [phi(x, y, L)] + [0]*t\n",
    "    aliveBranches = np.zeros((L+1, L+1))  # the number of alive processes at position 0 <= x,y <= L\n",
    "    aliveBranches = [[x,y]]  # initially we have one branch\n",
    "    for n in range(1, t+1):\n",
    "        if aliveBranches == []:\n",
    "            # all branches have died. The process will no longer evolve,\n",
    "            # and we can keep the values initialized to 0 for all future times\n",
    "            return values\n",
    "        \n",
    "        branchesToDelete = []  # indices of the branches that will die during this iteration\n",
    "        branchesToAdd = []  # coordinates of the branches that be created (by duplication) during this iteration\n",
    "        for branchId, (x, y) in enumerate(aliveBranches):\n",
    "            if not (x == 0 or x == L or y == 0 or y == L):\n",
    "                # we are neither on the border nor in the cemetery\n",
    "                rand = random.random()\n",
    "                if 0 <= rand < 1/12:\n",
    "                    x -= 1  # go left\n",
    "                    aliveBranches[branchId] = [x, y]\n",
    "                elif 1/12 <= rand < 2/12:\n",
    "                    x += 1  # go right\n",
    "                    aliveBranches[branchId] = [x, y]\n",
    "                elif 2/12 <= rand < 3/12:\n",
    "                    y -= 1  # go down\n",
    "                    aliveBranches[branchId] = [x, y]\n",
    "                elif 3/12 <= rand < 4/12:\n",
    "                    y += 1  # go up\n",
    "                    aliveBranches[branchId] = [x, y]\n",
    "                elif 1/3 <= rand < 2/3:\n",
    "                    # This branch dies\n",
    "                    branchesToDelete.append(branchId)\n",
    "                else:\n",
    "                    # Duplicate this branch\n",
    "                    branchesToAdd.append([x,y])\n",
    "\n",
    "        # Remove the dead branches\n",
    "        aliveBranches = [branch for i, branch in enumerate(aliveBranches) if i not in branchesToDelete]\n",
    "        # Add the newly created branches\n",
    "        aliveBranches += branchesToAdd\n",
    "        \n",
    "        # Compute the product of the values of phi for each of our alive branches\n",
    "        if aliveBranches != []:\n",
    "            values[n] = 1  # initialize product\n",
    "            for x, y in aliveBranches:\n",
    "                values[n] *= phi(x, y, L)\n",
    "    return values"
   ]
  },
  {
   "cell_type": "code",
   "execution_count": 4,
   "metadata": {},
   "outputs": [],
   "source": [
    "def monte_carlo(x, y, L, K, t):    \n",
    "    \"\"\"Simulate K times the evolution up to time t starting from point\n",
    "    (x, y), and return the average result in a list of length t.\"\"\"\n",
    "    temporary_sum = [0]*(t+1)\n",
    "    for i in range(K):\n",
    "        sample = t_iterations(x, y, L, t)  # list of length t + 1\n",
    "        temporary_sum = [current + new for current, new in zip(temporary_sum, sample)]\n",
    "    return [Decimal(x)/Decimal(K) for x in temporary_sum]"
   ]
  },
  {
   "cell_type": "code",
   "execution_count": 5,
   "metadata": {},
   "outputs": [],
   "source": [
    "def approximate_solution(L, K, t):\n",
    "    \"\"\"Approximate solution at time t.\n",
    "    Return a list of length t, containing the approximate solution (array of size (L, L) for all intermediate times)\"\"\"\n",
    "    averages = [np.zeros((L, L)) for _ in range(t+1)]\n",
    "    start = time.time()\n",
    "    for x in range(L):\n",
    "        for y in range(L):\n",
    "            # The square associated with (x, y) is the one whose bottom left\n",
    "            # corner is at (x, y)\n",
    "            this_pos_monte_carlo = monte_carlo(x, y, L, K, t) # list of values until from 0 to t\n",
    "            for n in range(t+1):\n",
    "                averages[n][x][y] = this_pos_monte_carlo[n]\n",
    "        nowm = int((time.time() - start) // 60)\n",
    "        nows = int((time.time() - start) % 60)\n",
    "        print(\"x = {:2}/{} done, elapsed time = {:2}m {:2}s\".format(x, L-1, nowm, nows))\n",
    "    return averages"
   ]
  },
  {
   "cell_type": "code",
   "execution_count": 6,
   "metadata": {},
   "outputs": [],
   "source": [
    "def display(L, K, t):\n",
    "    approx_intermediate_images = approximate_solution(L, K, t)\n",
    "    def _show(frame=widgets.IntSlider(min=0,max=t-1,step=1,value=0)):\n",
    "        fig, ax = plt.subplots(figsize=(7,7))\n",
    "        ax.imshow(approx_intermediate_images[frame][:][:].T, origin=\"lower\",\n",
    "                   extent=[0, 1, 0, 1], cmap=\"jet\")\n",
    "    interact(_show)"
   ]
  },
  {
   "cell_type": "code",
   "execution_count": 7,
   "metadata": {
    "scrolled": false
   },
   "outputs": [
    {
     "name": "stdout",
     "output_type": "stream",
     "text": [
      "x =  0/29 done, elapsed time =  0m  1s\n",
      "x =  1/29 done, elapsed time =  0m  2s\n",
      "x =  2/29 done, elapsed time =  0m  2s\n",
      "x =  3/29 done, elapsed time =  0m  3s\n",
      "x =  4/29 done, elapsed time =  0m  4s\n",
      "x =  5/29 done, elapsed time =  0m  5s\n",
      "x =  6/29 done, elapsed time =  0m  6s\n",
      "x =  7/29 done, elapsed time =  0m  7s\n",
      "x =  8/29 done, elapsed time =  0m  7s\n",
      "x =  9/29 done, elapsed time =  0m  8s\n",
      "x = 10/29 done, elapsed time =  0m  9s\n",
      "x = 11/29 done, elapsed time =  0m 10s\n",
      "x = 12/29 done, elapsed time =  0m 11s\n",
      "x = 13/29 done, elapsed time =  0m 12s\n",
      "x = 14/29 done, elapsed time =  0m 13s\n",
      "x = 15/29 done, elapsed time =  0m 13s\n",
      "x = 16/29 done, elapsed time =  0m 14s\n",
      "x = 17/29 done, elapsed time =  0m 15s\n",
      "x = 18/29 done, elapsed time =  0m 16s\n",
      "x = 19/29 done, elapsed time =  0m 17s\n",
      "x = 20/29 done, elapsed time =  0m 18s\n",
      "x = 21/29 done, elapsed time =  0m 19s\n",
      "x = 22/29 done, elapsed time =  0m 19s\n",
      "x = 23/29 done, elapsed time =  0m 20s\n",
      "x = 24/29 done, elapsed time =  0m 21s\n",
      "x = 25/29 done, elapsed time =  0m 22s\n",
      "x = 26/29 done, elapsed time =  0m 23s\n",
      "x = 27/29 done, elapsed time =  0m 24s\n",
      "x = 28/29 done, elapsed time =  0m 24s\n",
      "x = 29/29 done, elapsed time =  0m 25s\n"
     ]
    },
    {
     "data": {
      "application/vnd.jupyter.widget-view+json": {
       "model_id": "0bffee52dd81462baff689f53f2c6ca5",
       "version_major": 2,
       "version_minor": 0
      },
      "text/plain": [
       "interactive(children=(IntSlider(value=0, description='frame', max=99), Output()), _dom_classes=('widget-intera…"
      ]
     },
     "metadata": {},
     "output_type": "display_data"
    }
   ],
   "source": [
    "def test():\n",
    "    \"\"\"Main function.\"\"\"\n",
    "    L = 30  # discretize with squares of length 1/L\n",
    "    K = 200  # number of simulations per point to compute the average result\n",
    "    t = 100\n",
    "    display(L, K, t)\n",
    "    \n",
    "if __name__ == \"__main__\":\n",
    "    test()"
   ]
  },
  {
   "cell_type": "code",
   "execution_count": null,
   "metadata": {},
   "outputs": [],
   "source": []
  }
 ],
 "metadata": {
  "kernelspec": {
   "display_name": "Python 3",
   "language": "python",
   "name": "python3"
  },
  "language_info": {
   "codemirror_mode": {
    "name": "ipython",
    "version": 3
   },
   "file_extension": ".py",
   "mimetype": "text/x-python",
   "name": "python",
   "nbconvert_exporter": "python",
   "pygments_lexer": "ipython3",
   "version": "3.6.5"
  }
 },
 "nbformat": 4,
 "nbformat_minor": 2
}
