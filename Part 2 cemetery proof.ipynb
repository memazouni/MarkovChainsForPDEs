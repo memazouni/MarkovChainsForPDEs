{
 "cells": [
  {
   "cell_type": "markdown",
   "metadata": {},
   "source": [
    "## 1. Equation\n",
    "\n",
    "### $$\\partial^2_x f(x,y) + \\partial^2_y f(x,y) - \\gamma f(x,y) = 0 $$\n",
    "with the following Dirichlet border conditions:\n",
    "### $$\\forall (x,y) \\in \\partial \\mathbb{D}, f(x,y) =  \\phi(x,y)$$ \n",
    "where:\n",
    "* $\\mathbb{D} = [0;1]^2$ is the square of side length $1$.\n",
    "* $\\partial \\mathbb{D} = \\{ 0;1\\} \\times [0;1] \\cup  [0;1]\\times \\{0;1\\}$ is the border of $\\mathbb{D}$.\n",
    "* $\\phi$ is a function $\\partial \\mathbb{D} \\to \\mathbb{R}$.\n",
    "\n",
    "\n",
    "Let $L \\in \\mathbb{N}^*$: we want to build $u : \\{0, ..., L-1\\} \\times \\{0, ..., L-1\\} \\to \\mathbb{R}$ such that for every $0 \\leq i < L$ and $0 \\leq j < L$, $u(i,j)$ approaches $f(\\frac {i} {L}, \\frac {j} {L})$. We call $\\mathcal{D}$ the lattice $\\{0, ..., L\\}^2$, and $\\partial \\mathcal{D} = \\{0,L\\} \\times \\{0, ..., L\\} \\sqcup \\{0, ..., L\\} \\times \\{0,L \\}$ its border.\n",
    "\n",
    "## 2. Random Walk\n",
    "\n",
    "Let $(i,j) \\in \\mathcal{D}$, and $\\alpha = \\gamma/L^2$: $L$ must be chosen so that $0 \\leq \\alpha \\leq 1$. We define a  random walk $(X_n)_{n \\in \\mathbb{N}}$ on $\\mathcal{D} \\cup \\{\\dagger \\}$, where $\\dagger$ is a separate state called the *cemetery*, and such that $X_0 = (i,j)$. For every $n \\in \\mathbb{N}$:\n",
    "* If $X_n = (k,l)$ is **on the border** $\\partial \\mathcal{D}$ **of the lattice**, *i.e.* $k \\in \\{0, L\\}$ or $l \\in \\{0, L\\}$, then it stays put with probability $1$: $$\\mathbb{P}[X_{n+1} = (k,l) | X_n = (k,l)] = 1$$\n",
    "* If $X_n = (k,l)$ is **inside the lattice**, *i.e.* $0 < k < L$ and $0 < l < L$, then it can:\n",
    " * **Die** with probability $\\alpha$: $$\\mathbb{P}[X_{n+1} = \\dagger | X_n = (k,l)] = \\alpha$$\n",
    " * **Move** with equal probability $\\frac {1} {4} (1 - \\alpha)$ to one of the $4$ neighbours of $(k,l)$: for every neighbour $(k',l')$ of $(k,l)$,  $$\\mathbb{P}[X_{n+1} = (k',l') | X_n = (k,l)] = \\frac {1} {4} (1 - \\alpha)$$\n",
    "* If $X_n = \\dagger$, then $X_{n+1} = \\dagger$ with probability $1$: there is **no resurrection**:\n",
    "$$\\mathbb{P}[X_{n+1} = \\dagger | X_n = \\dagger] = 1$$\n",
    "\n",
    "\n"
   ]
  },
  {
   "cell_type": "markdown",
   "metadata": {},
   "source": [
    "## 3. Approximation\n",
    "\n",
    "### 1. Defining $u(i,j)$\n",
    "We now introduce the stopping times:\n",
    "* $T = \\inf \\{n \\in \\mathbb{N} | X_n = \\dagger \\}$ is the time of **death**.\n",
    "* $\\tau = \\inf \\{n \\in \\mathbb{N} | X_n \\in \\partial \\mathcal{D} \\}$ is the time the **border is reached**.\n",
    "\n",
    "$u(i,j)$ is then defined as the expectation $\\mathbb{E}_{(i,j)} [\\tilde{\\phi}(X_\\tau)\\mathbb{1}_{\\tau < T}] = \\mathbb{E} [\\tilde{\\phi}(X_\\tau)\\mathbb{1}_{\\tau < T} | X_0 = (i,j)]$, where $\\tilde{\\phi}$ sends $(i,j) \\in \\partial \\mathcal{D}$ to $\\phi(i/L, j/L)$."
   ]
  },
  {
   "cell_type": "markdown",
   "metadata": {},
   "source": [
    "### 2. What equation does $u(i,j)$ follow?\n",
    "\n",
    "Let's take a closer look at the $u(i,j)$ defined as above:\n",
    "\\begin{equation*}\n",
    "    \\begin{aligned}\n",
    "        u(i,j) &= \\mathbb{E}_{(i,j)} [\\tilde{\\phi}(X_\\tau)\\mathbb{1}_{\\tau < T}] \\\\\n",
    " &= \\mathbb{E}_{(i,j)} [\\tilde{\\phi}(X_\\tau)\\mathbb{1}_{\\tau < T}\\mathbb{1}_{X_1 = (i+1,j)}] \\\\\n",
    " & \\ \\ + \\mathbb{E}_{(i,j)} [\\tilde{\\phi}(X_\\tau)\\mathbb{1}_{\\tau < T}\\mathbb{1}_{X_1 = (i-1,j)}] \\\\ \n",
    " & \\ \\ + \\mathbb{E}_{(i,j)} [\\tilde{\\phi}(X_\\tau)\\mathbb{1}_{\\tau < T}\\mathbb{1}_{X_1 = (i,j-1)}] \\\\ \n",
    " & \\ \\ + \\mathbb{E}_{(i,j)} [\\tilde{\\phi}(X_\\tau)\\mathbb{1}_{\\tau < T}\\mathbb{1}_{X_1 = (i,j+1)}]\\\\\n",
    " & \\ \\ + \\mathbb{E}_{(i,j)} [\\tilde{\\phi}(X_\\tau)\\mathbb{1}_{\\tau < T}\\mathbb{1}_{X_1 = \\dagger}] \\\\\n",
    "    \\end{aligned}\n",
    "\\end{equation*}"
   ]
  },
  {
   "cell_type": "markdown",
   "metadata": {},
   "source": [
    "Suppose $X_1 = \\dagger$. Then $T = 1$. Since $(i,j)$ is in $\\{1, ..., L-1 \\}^2$, necessarily $\\tau \\geq 1$, hence $\\tau \\geq T$. Therefore $\\mathbb{1}_{\\tau < T}\\mathbb{1}_{X_1 = \\dagger} = 0$ and the last term in the sum is always zero."
   ]
  },
  {
   "cell_type": "markdown",
   "metadata": {},
   "source": [
    "Now let's focus on $\\mathbb{E}_{(i,j)} [\\tilde{\\phi}(X_\\tau)\\mathbb{1}_{\\tau < T}\\mathbb{1}_{X_1 = (i+1,j)}]$, the first term:\n",
    "\n",
    "\\begin{equation*}\n",
    "    \\begin{aligned}\n",
    "        \\mathbb{E}_{(i,j)} [\\tilde{\\phi}(X_\\tau)\\mathbb{1}_{\\tau < T}\\mathbb{1}_{X_1 = (i+1,j)}] &= \n",
    "        \\mathbb{P}_{(i,j)}[X_1 = (i+1,j)] \\cdot \\mathbb{E}_{(i,j)} [\\tilde{\\phi}(X_\\tau)\\mathbb{1}_{\\tau < T} |X_1 = (i+1,j)] \\\\\n",
    "        &= \\mathbb{P}[X_1 = (i+1,j) | X_0 = (i,j)] \\cdot \\mathbb{E} [\\tilde{\\phi}(X_\\tau)\\mathbb{1}_{\\tau < T} |X_1 = (i+1,j), X_0 = (i,j)] \\\\\n",
    "        &= \\frac {1- \\alpha} {4} \\cdot \\mathbb{E} [\\tilde{\\phi}(X_\\tau)\\mathbb{1}_{\\tau < T} |X_1 = (i+1,j)] \\\\\n",
    "        &= \\frac {1- \\alpha} {4} \\cdot \\mathbb{E}_{(i+1, j)} [\\tilde{\\phi}(X_\\tau)\\mathbb{1}_{\\tau < T}] \\\\\n",
    "        &= \\frac  {1- \\alpha} {4} u(i+1, j)\n",
    "    \\end{aligned}\n",
    "\\end{equation*}"
   ]
  },
  {
   "cell_type": "markdown",
   "metadata": {},
   "source": [
    "Proceeding similarly with the four other terms, we end up with:\n",
    "$$u(i,j) = \\frac {1-\\alpha} {4} [u(i+1, j) + u(i-1, j) + u(i, j+1) + u(i, j-1)] \\ \\ \\ (*)$$\n",
    "\n",
    "This can be rewritten as $(1-\\alpha) \\cdot \\tilde{\\Delta}u(i,j) = \\alpha \\cdot u(i,j)$, where $\\tilde{\\Delta}$ is the discretised Laplacian, sending every function $u: \\mathcal{D} \\to \\mathbb{R}$ to the function $$\\tilde{\\Delta}u : (i,j) \\mapsto \\frac 1 4 \\sum\\limits_{(k,l) ~(i,j)} [u(k,l) - u(i,j)]$$"
   ]
  },
  {
   "cell_type": "markdown",
   "metadata": {},
   "source": [
    "### 3. Back to continuous functions\n",
    "\n",
    "Let's now show how all of this relates to the original partial differential equation: define $f : \\mathbb{D} \\to \\mathbb{R}$ by $f(x,y) = u(\\lfloor xL \\rfloor, \\lfloor yL \\rfloor)$. Then for every $(x,y) \\in \\mathbb{D}$: \n",
    "$$f(x+1/L, y) + f(x-1/L, y) - 2 f(x,y) = u(\\lfloor xL \\rfloor + 1, \\lfloor yL \\rfloor) + u(\\lfloor xL \\rfloor - 1, \\lfloor yL \\rfloor) - 2 u(\\lfloor xL \\rfloor, \\lfloor yL \\rfloor)  $$\n",
    "$$f(x, y+1/L) + f(x, y-1/L) - 2 f(x,y) = u(\\lfloor xL \\rfloor, \\lfloor yL \\rfloor + 1) + u(\\lfloor xL \\rfloor, \\lfloor yL \\rfloor - 1) - 2 u(\\lfloor xL \\rfloor, \\lfloor yL \\rfloor)  $$"
   ]
  },
  {
   "cell_type": "markdown",
   "metadata": {},
   "source": [
    "Therefore:\n",
    "$\\frac {1}{4 (1/L)^2} [f(x+1/L, y) + f(x-1/L, y) + f(x, y+1/L) + f(x, y-1/L) - 4 f(x,y)f(x,y)] $ \n",
    "$=  (L^2/4) \\cdot [u(\\lfloor xL \\rfloor + 1, \\lfloor yL \\rfloor) + u(\\lfloor xL \\rfloor - 1, \\lfloor yL \\rfloor) + u(\\lfloor xL \\rfloor, \\lfloor yL \\rfloor + 1) + u(\\lfloor xL \\rfloor, \\lfloor yL \\rfloor - 1) - 4 u(\\lfloor xL \\rfloor, \\lfloor yL \\rfloor)]$ \n",
    "$=  \\alpha L^2/(1-\\alpha) \\cdot u(\\lfloor xL \\rfloor, \\lfloor yL \\rfloor)$ by $(*)$. \n",
    "\n",
    "Remember, $\\alpha = \\gamma / L^2$, therefore:\n",
    "$$\\frac {1}{4 (1/L)^2} [f(x+1/L, y) + f(x-1/L, y) + f(x, y+1/L) + f(x, y-1/L) - 4 f(x,y)f(x,y)] = \\frac {\\gamma} {1 - \\gamma/L^2} f(x,y)$$ \n",
    "\n",
    "When $L \\to \\infty$, the left hand side converges to $\\Delta f(x,y)$, and the right hand side converges to $\\gamma f(x,y)$, hence\n",
    "$$\\boxed{\\forall (x,y) \\in \\mathbb{D}, \\Delta f(x,y) - \\gamma f(x,y) = 0}$$"
   ]
  },
  {
   "cell_type": "markdown",
   "metadata": {},
   "source": [
    "### 4. Border conditions\n",
    "\n",
    "Let $(x,y) \\in \\partial \\mathbb{D}$: then $(\\lfloor xL \\rfloor, \\lfloor yL \\rfloor) \\in \\partial \\mathcal{D}$. Let $i = \\lfloor xL \\rfloor$ and $j = \\lfloor yL \\rfloor$, and consider once again the random walk $(X_n)_{n \\in \\mathbb{N}}$ initially in $(i,j)$ defined above. Since $X_0 = (i,j) \\in \\partial \\mathcal{D}$, the border is reached immediately, and necessarily $\\tau = 0 < T$. Therefore the expectation $\\mathbb{E}_{(i,j)} [\\tilde{\\phi}(X_\\tau)\\mathbb{1}_{\\tau < T}]$ is simply the value $\\tilde{\\phi}(X_0) = \\tilde{\\phi}(i,j) = \\phi(x,y)$.\n",
    "\n",
    "Since this is true for every $L \\in \\mathbb{N}^*$, by taking the limit as $L \\to \\infty$ we also have:\n",
    "$$\\boxed{\\forall (x,y) \\in \\partial \\mathbb{D}, f(x,y) = \\phi(x,y)}$$\n",
    "\n",
    "\n",
    "\n",
    "## 4. Watching the process unfold through time\n",
    "\n",
    "# TODO\n",
    "### 1. Defining $v_n(i,j)$\n",
    "\n",
    "\n",
    "Define for every $n \\in \\mathbb{N}$ the function $v_n : \\mathcal{D} \\to \\mathbb{R}$ sending every $(i,j) \\in \\mathcal{D}$ to: \n",
    "\n",
    "$$v_n(i,j) = \\mathbb{E}_i\\big[\\phi(X_n) exp \\big( - \\beta \\sum\\limits^{n}_{j = 0} \\mathbb{1}_{\\{ X_j \\notin \\partial{\\mathbb{D}} \\}}\\big)\\big]$$\n",
    "\n",
    "### 2. What equation does $v(i,j)$ follow?\n",
    "\n",
    "Since the walk is symmetric a calculation very similar to the one above leads to:\n",
    "\n",
    "\\begin{equation*}\n",
    "    \\begin{aligned}\n",
    "        v_{n+1}(i,j) &= \\frac {1} {4} \\mathbb{E} \\big[ \\phi(X_{n+1})exp \\big( - \\beta \\sum_\\limits{i = 0}^{n+1} \\mathbb{1}_{X_i \\notin \\{0;L \\} }\\big) | X_0 = (i,j), X_1 = (i+1, j)  \\big] \\\\\n",
    " &+ \\frac {1} {4} \\mathbb{E} \\big[ \\phi(X_{n+1})exp \\big( - \\beta \\sum_\\limits{i = 0}^{n+1} \\mathbb{1}_{X_i \\notin \\{0;L \\} }\\big) | X_0 = (i,j), X_1 = (i-1, j)  \\big] \\\\\n",
    " &+ \\frac {1} {4} \\mathbb{E} \\big[ \\phi(X_{n+1})exp \\big( - \\beta \\sum_\\limits{i = 0}^{n+1} \\mathbb{1}_{X_i \\notin \\{0;L \\} }\\big) | X_0 = (i,j), X_1 = (i, j+1)  \\big] \\\\\n",
    " &+ \\frac {1} {4} \\mathbb{E} \\big[ \\phi(X_{n+1})exp \\big( - \\beta \\sum_\\limits{i = 0}^{n+1} \\mathbb{1}_{X_i \\notin \\{0;L \\} }\\big) | X_0 = (i,j), X_1 = (i, j-1)  \\big] \\\\\n",
    " &= \\frac {e^{-\\beta}} {4} [v_n(i+1,j) + v_n(i,j+1) + v_n(i-1,j) + v_n(i,j-1)]\n",
    "    \\end{aligned}\n",
    "\\end{equation*}\n",
    "\n",
    "\n",
    "Therefore:\n",
    " $$v_{n-1}(i,j) - v_n(i,j) =  \\frac {e^{-\\beta}} {4} [v_n(i+1,j) + v_n(i,j+1) + v_n(i-1,j) + v_n(i,j-1) - 4 v_n(i,j)] - (e^{\\beta} - 1)v_n(i,j) = 0 \\ \\ (**)$$\n",
    "\n",
    "\n",
    "### 3. Back to continuous functions\n",
    "Once again, intuitively, $v_n$ checks a discretised version of the following equation:\n",
    "$$ \\partial_t f(x,y,t) = \\Delta f(x,y,t) - \\gamma f(x,y,t)$$\n",
    "\n",
    "Let's make this statement more precise: define $f : \\mathbb{R}^{*}_{+} \\times \\mathbb{D} \\to \\mathbb{R}$ by $f(t,x,y) = u_{\\lfloor nL^2\\rfloor}(\\lfloor xL \\rfloor, \\lfloor yL \\rfloor)$.\n",
    "\n",
    "Then for every $(t,x,y) \\in \\mathbb{R}^{*}_{+} \\times \\mathbb{D}$, multiplying both sides of $(**)$ by $L^2$ yields:\n",
    "\n",
    "$$\\frac {f(t + 1/L^2,x,y) - f(t,x,y)} {(1/L^2)}  = \\frac {f(x+1/L, y) + f(x-1/L, y) + f(x, y+1/L) + f(x, y-1/L) - 4 f(x,y)f(x,y)}{4 (1/L)^2}  - \\gamma f(t,x,y)$$\n",
    "\n",
    "Therefore when $L \\to \\infty$:\n",
    "\n",
    "### $$\\partial_t f(t,x,y) = \\Delta f(t,x,y) - \\gamma f(t,x,y) $$\n",
    "\n",
    "### 4. Border conditions\n"
   ]
  }
 ],
 "metadata": {
  "kernelspec": {
   "display_name": "Python 3",
   "language": "python",
   "name": "python3"
  },
  "language_info": {
   "codemirror_mode": {
    "name": "ipython",
    "version": 3
   },
   "file_extension": ".py",
   "mimetype": "text/x-python",
   "name": "python",
   "nbconvert_exporter": "python",
   "pygments_lexer": "ipython3",
   "version": "3.6.5"
  }
 },
 "nbformat": 4,
 "nbformat_minor": 2
}
