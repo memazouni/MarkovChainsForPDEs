{
 "cells": [
  {
   "cell_type": "code",
   "execution_count": 1,
   "metadata": {},
   "outputs": [],
   "source": [
    "import random\n",
    "import numpy as np\n",
    "import matplotlib.pyplot as plt\n",
    "import time\n",
    "\n",
    "from PIL import Image\n",
    "from ipywidgets import interact, interactive, fixed, interact_manual\n",
    "from ipywidgets import interact\n",
    "import ipywidgets as widgets"
   ]
  },
  {
   "cell_type": "code",
   "execution_count": 2,
   "metadata": {},
   "outputs": [],
   "source": [
    "def phi(x, y, L):\n",
    "    \"\"\"Initial function. In particular, it also defines the edge conditions.\"\"\"\n",
    "    if x == 0 or x == L:\n",
    "        return 1\n",
    "    return 0"
   ]
  },
  {
   "cell_type": "code",
   "execution_count": 3,
   "metadata": {},
   "outputs": [],
   "source": [
    "def t_iterations(x, y, L, t, alpha):\n",
    "    \"\"\"Simulate the random walk during n iterations, starting from point (x, y).\n",
    "    If the cemetery is reached, add 0 to the list of values taken.\n",
    "    Else return the values taken by the walk from time 0 to t in a list of length t+1.\n",
    "    \"\"\"\n",
    "    cemeteryReached = False\n",
    "    values = [phi(x, y, L)] + [0]*t\n",
    "    for n in range(1, t+1): \n",
    "        if cemeteryReached:  # impossible to leave the cemetery: x and y won't change\n",
    "            values[n] = 0\n",
    "            continue\n",
    "        if x == 0 or x == L or y == 0 or y == L:\n",
    "            values[n] = phi(x, y, L)  # we're on the border: x and y won't change\n",
    "            continue\n",
    "        # we are neither on the border nor in the cemetery\n",
    "        rand = random.random()\n",
    "        q = (1-alpha)/4\n",
    "        if 0 <= rand < q:\n",
    "            x -= 1  # go left\n",
    "            values[n] = phi(x, y, L)\n",
    "        elif q <= rand < 2*q:\n",
    "            x += 1  # go right\n",
    "            values[n] = phi(x, y, L)\n",
    "        elif 2*q <= rand < 3*q:\n",
    "            y -= 1  # go down\n",
    "            values[n] = phi(x, y, L)\n",
    "        elif 3*q <= rand < 4*q:\n",
    "            y += 1  # go up\n",
    "            values[n] = phi(x, y, L)\n",
    "        else:  # go to cemetery with probability alpha\n",
    "            cemeteryReached = True\n",
    "            values[n] = 0\n",
    "    return values"
   ]
  },
  {
   "cell_type": "code",
   "execution_count": 4,
   "metadata": {},
   "outputs": [],
   "source": [
    "def monte_carlo(x, y, L, K, t, alpha):    \n",
    "    \"\"\"Simulate K times the evolution up to time t starting from point\n",
    "    (x, y), and return the average result in a list of length t.\"\"\"\n",
    "    temporary_sum = [0]*(t+1)\n",
    "    for _ in range(K):\n",
    "        sample = t_iterations(x, y, L, t, alpha)  # list of length t + 1\n",
    "        temporary_sum = [current + new for current, new in zip(temporary_sum, sample)]\n",
    "    return [x/K for x in temporary_sum]"
   ]
  },
  {
   "cell_type": "code",
   "execution_count": 5,
   "metadata": {},
   "outputs": [],
   "source": [
    "def approximate_solution(L, K, t, alpha):\n",
    "    \"\"\"Approximate solution at time t.\n",
    "    Return a list of length t, containing the approximate solution (array of size (L, L) for all intermediate times)\"\"\"\n",
    "    averages = [np.zeros((L, L)) for _ in range(t+1)]\n",
    "    start = time.time()\n",
    "    for x in range(L):\n",
    "        for y in range(L):\n",
    "            # The square associated with (x, y) is the one whose bottom left\n",
    "            # corner is at (x, y)\n",
    "            this_pos_monte_carlo = monte_carlo(x, y, L, K, t, alpha) # list of values until from 0 to t\n",
    "            for n in range(t+1):\n",
    "                averages[n][x][y] = this_pos_monte_carlo[n]\n",
    "        nowm = int((time.time() - start) // 60)\n",
    "        nows = int((time.time() - start) % 60)\n",
    "        print(\"x = {:2}/{} done, elapsed time = {:2}m {:2}s\".format(x, L-1, nowm, nows))\n",
    "    return averages"
   ]
  },
  {
   "cell_type": "code",
   "execution_count": 6,
   "metadata": {},
   "outputs": [],
   "source": [
    "def display(L, K, t, alpha):\n",
    "    approx_intermediate_images = approximate_solution(L, K, t, alpha)\n",
    "    def _show(frame=widgets.IntSlider(min=0,max=t-1,step=1,value=0)):\n",
    "        fig, ax = plt.subplots(figsize=(7,7))\n",
    "        ax.imshow(approx_intermediate_images[frame][:][:].T, origin=\"lower\",\n",
    "                   extent=[0, 1, 0, 1], cmap=\"jet\")\n",
    "    interact(_show)"
   ]
  },
  {
   "cell_type": "code",
   "execution_count": 7,
   "metadata": {},
   "outputs": [
    {
     "name": "stdout",
     "output_type": "stream",
     "text": [
      "L = 40, K = 50, gamma = 100\n",
      "x =  0/39 done, elapsed time =  0m  0s\n",
      "x =  1/39 done, elapsed time =  0m  0s\n",
      "x =  2/39 done, elapsed time =  0m  0s\n",
      "x =  3/39 done, elapsed time =  0m  0s\n",
      "x =  4/39 done, elapsed time =  0m  0s\n",
      "x =  5/39 done, elapsed time =  0m  0s\n",
      "x =  6/39 done, elapsed time =  0m  0s\n",
      "x =  7/39 done, elapsed time =  0m  0s\n",
      "x =  8/39 done, elapsed time =  0m  0s\n",
      "x =  9/39 done, elapsed time =  0m  0s\n",
      "x = 10/39 done, elapsed time =  0m  0s\n",
      "x = 11/39 done, elapsed time =  0m  1s\n",
      "x = 12/39 done, elapsed time =  0m  1s\n",
      "x = 13/39 done, elapsed time =  0m  1s\n",
      "x = 14/39 done, elapsed time =  0m  1s\n",
      "x = 15/39 done, elapsed time =  0m  1s\n",
      "x = 16/39 done, elapsed time =  0m  1s\n",
      "x = 17/39 done, elapsed time =  0m  1s\n",
      "x = 18/39 done, elapsed time =  0m  1s\n",
      "x = 19/39 done, elapsed time =  0m  1s\n",
      "x = 20/39 done, elapsed time =  0m  1s\n",
      "x = 21/39 done, elapsed time =  0m  1s\n",
      "x = 22/39 done, elapsed time =  0m  1s\n",
      "x = 23/39 done, elapsed time =  0m  2s\n",
      "x = 24/39 done, elapsed time =  0m  2s\n",
      "x = 25/39 done, elapsed time =  0m  2s\n",
      "x = 26/39 done, elapsed time =  0m  2s\n",
      "x = 27/39 done, elapsed time =  0m  2s\n",
      "x = 28/39 done, elapsed time =  0m  2s\n",
      "x = 29/39 done, elapsed time =  0m  2s\n",
      "x = 30/39 done, elapsed time =  0m  2s\n",
      "x = 31/39 done, elapsed time =  0m  2s\n",
      "x = 32/39 done, elapsed time =  0m  2s\n",
      "x = 33/39 done, elapsed time =  0m  2s\n",
      "x = 34/39 done, elapsed time =  0m  2s\n",
      "x = 35/39 done, elapsed time =  0m  2s\n",
      "x = 36/39 done, elapsed time =  0m  3s\n",
      "x = 37/39 done, elapsed time =  0m  3s\n",
      "x = 38/39 done, elapsed time =  0m  3s\n",
      "x = 39/39 done, elapsed time =  0m  3s\n"
     ]
    },
    {
     "data": {
      "application/vnd.jupyter.widget-view+json": {
       "model_id": "2dc5c4cd42e64d5da257c31d1814587c",
       "version_major": 2,
       "version_minor": 0
      },
      "text/plain": [
       "interactive(children=(IntSlider(value=0, description='frame', max=199), Output()), _dom_classes=('widget-inter…"
      ]
     },
     "metadata": {},
     "output_type": "display_data"
    }
   ],
   "source": [
    "def test():\n",
    "    \"\"\"Main function.\"\"\"\n",
    "    L = 40  # discretize with squares of length 1/L\n",
    "    K = 50  # number of simulations per point to compute the average result\n",
    "    t = 200\n",
    "    gamma = 100\n",
    "    print(\"L = {}, K = {}, gamma = {}\".format(L, K, gamma))\n",
    "    alpha = gamma/L**2\n",
    "    display(L, K, t, alpha)\n",
    "    \n",
    "if __name__ == \"__main__\":\n",
    "    test()"
   ]
  },
  {
   "cell_type": "code",
   "execution_count": null,
   "metadata": {},
   "outputs": [],
   "source": []
  }
 ],
 "metadata": {
  "kernelspec": {
   "display_name": "Python 3",
   "language": "python",
   "name": "python3"
  },
  "language_info": {
   "codemirror_mode": {
    "name": "ipython",
    "version": 3
   },
   "file_extension": ".py",
   "mimetype": "text/x-python",
   "name": "python",
   "nbconvert_exporter": "python",
   "pygments_lexer": "ipython3",
   "version": "3.6.5"
  }
 },
 "nbformat": 4,
 "nbformat_minor": 2
}
