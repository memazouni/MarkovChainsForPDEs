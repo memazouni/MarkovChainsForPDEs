{
 "cells": [
  {
   "cell_type": "code",
   "execution_count": 1,
   "metadata": {},
   "outputs": [],
   "source": [
    "import random\n",
    "import numpy as np\n",
    "import time\n",
    "\n",
    "from PIL import Image\n",
    "from ipywidgets import interact, interactive, fixed, interact_manual\n",
    "from ipywidgets import interact\n",
    "import ipywidgets as widgets\n",
    "%matplotlib inline"
   ]
  },
  {
   "cell_type": "code",
   "execution_count": 2,
   "metadata": {},
   "outputs": [],
   "source": [
    "# define phi as f is at time t = 0 - in particular, phi defines border conditions\n",
    "def phi(x, y, L):\n",
    "    if x == 0 or x == L:\n",
    "        return 1\n",
    "    return 0\n",
    "vphi = np.vectorize(phi)"
   ]
  },
  {
   "cell_type": "code",
   "execution_count": 3,
   "metadata": {},
   "outputs": [],
   "source": [
    "def v_n(init, L, beta, n, K):\n",
    "    somme = 0\n",
    "    for _ in range(K):\n",
    "        x = init[0]\n",
    "        y = init[1]\n",
    "        coordList = [[x,y]]\n",
    "        number_non_touches = 0\n",
    "        for j in range(n):\n",
    "            coordList.append([x,y])\n",
    "            if x != 0 and y != 0 and y != L and x != L: # in that case the walk's fate is sealed\n",
    "                number_non_touches += 1\n",
    "                rand = random.random()\n",
    "                # Go with equal probability left, up, right or down\n",
    "                if 0 <= rand < 0.25:\n",
    "                    x -= 1\n",
    "                elif 0.25 <= rand < 0.5:\n",
    "                    x += 1\n",
    "                elif 0.5 <= rand < 0.75:\n",
    "                    y -= 1\n",
    "                else:\n",
    "                    y += 1\n",
    "                \n",
    "        somme += vphi(np.array([coord[0] for coord in coordList]),np.array([coord[1] for coord in coordList]), L)*np.exp(- beta*np.arange(n+1))\n",
    "    return somme/K"
   ]
  },
  {
   "cell_type": "code",
   "execution_count": 4,
   "metadata": {},
   "outputs": [],
   "source": [
    "K = 50\n",
    "L = 30\n",
    "N = 200\n",
    "beta = 1"
   ]
  },
  {
   "cell_type": "code",
   "execution_count": 5,
   "metadata": {},
   "outputs": [],
   "source": [
    "arrayImages = np.zeros((N,L,L))\n",
    "for i in range(L):\n",
    "    for j in range(L):\n",
    "        ls = v_n([i,j], L, beta, N, K)\n",
    "        for n in range(N):\n",
    "            arrayImages[n][i][j] = ls[n]"
   ]
  },
  {
   "cell_type": "code",
   "execution_count": 6,
   "metadata": {
    "scrolled": true
   },
   "outputs": [
    {
     "data": {
      "application/vnd.jupyter.widget-view+json": {
       "model_id": "c60a7a5f8c5c495a916c183b20231e2f",
       "version_major": 2,
       "version_minor": 0
      },
      "text/plain": [
       "interactive(children=(IntSlider(value=0, description='frame', max=199), Output()), _dom_classes=('widget-inter…"
      ]
     },
     "metadata": {},
     "output_type": "display_data"
    },
    {
     "data": {
      "text/plain": [
       "<function __main__._show(frame=IntSlider(value=0, description='frame', max=199))>"
      ]
     },
     "execution_count": 6,
     "metadata": {},
     "output_type": "execute_result"
    }
   ],
   "source": [
    "%matplotlib inline\n",
    "import matplotlib.pyplot as plt\n",
    "def _show(frame=widgets.IntSlider(min=0,max=len(arrayImages) - 1,step=1,value=0)):\n",
    "    fig, ax = plt.subplots(figsize=(7,7))\n",
    "    ax.imshow(arrayImages[frame][:][:].T, origin=\"lower\",\n",
    "               extent=[0, 1, 0, 1], cmap=\"jet\")\n",
    "interact(_show)"
   ]
  }
 ],
 "metadata": {
  "kernelspec": {
   "display_name": "Python 3",
   "language": "python",
   "name": "python3"
  },
  "language_info": {
   "codemirror_mode": {
    "name": "ipython",
    "version": 3
   },
   "file_extension": ".py",
   "mimetype": "text/x-python",
   "name": "python",
   "nbconvert_exporter": "python",
   "pygments_lexer": "ipython3",
   "version": "3.6.5"
  }
 },
 "nbformat": 4,
 "nbformat_minor": 2
}
