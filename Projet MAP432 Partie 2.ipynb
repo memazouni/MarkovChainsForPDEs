{
 "cells": [
  {
   "cell_type": "code",
   "execution_count": 56,
   "metadata": {},
   "outputs": [],
   "source": [
    "from PIL import Image\n",
    "from ipywidgets import interact, interactive, fixed, interact_manual\n",
    "from ipywidgets import interact\n",
    "import ipywidgets as widgets\n",
    "%matplotlib inline\n"
   ]
  },
  {
   "cell_type": "markdown",
   "metadata": {},
   "source": [
    "# II. Deuxième équation:   \n",
    "\n",
    "### $$\\partial^2_x f(x,y) + \\partial^2_y f(x,y) - \\gamma f(x,y) = 0 $$\n"
   ]
  },
  {
   "cell_type": "markdown",
   "metadata": {},
   "source": [
    "Posons $\\beta = h(\\gamma)$.\n",
    "Soit $(X_n)_{n \\in \\mathbb{N}}$ la marche aléatoire régulière en deux dimensions initialement en $(i,j)$. On considère la suite de fonctions $(v_n)_{n \\in \\mathbb{N}}$ définie par: \n",
    "### $$v_n(i) = \\mathbb{E}_i\\big[\\phi(X_n) exp \\big( - \\beta \\sum\\limits^{n}_{j = 0} \\mathbb{1}_{\\{ X_j \\notin \\partial{\\mathbb{D}} \\}}\\big)\\big]$$"
   ]
  },
  {
   "cell_type": "markdown",
   "metadata": {},
   "source": [
    "En conditionnant par rapport au premier pas, étant donné que la marche est symmétrique on obtient pour tout $(i,j) \\notin \\partial \\mathbb{D}$:\n",
    " $v_{n+1}(i,j) = \\frac {1} {4} \\mathbb{E} \\big[ \\phi(X_{n+1})exp \\big( - \\beta \\sum_\\limits{i = 0}^{n} \\mathbb{1}_{X_i \\notin \\{0;L \\} }\\big) | X_0 = (i,j), X_1 = (i+1, j)  \\big]+ \\frac {1} {4} \\mathbb{E} \\big[ \\phi(X_{n+1})exp \\big( - \\beta \\sum_\\limits{i = 0}^{n} \\mathbb{1}_{X_i \\notin \\{0;L \\} }\\big) | X_0 = (i,j), X_1 = (i-1, j)  \\big]\n",
    "   +\n",
    "   \\frac {1} {4} \\mathbb{E} \\big[ \\phi(X_{n+1})exp \\big( - \\beta \\sum_\\limits{i = 0}^{n} \\mathbb{1}_{X_i \\notin \\{0;L \\} }\\big) | X_0 = (i,j), X_1 = (i, j+1)  \\big]\n",
    "   +\n",
    "   \\frac {1} {4} \\mathbb{E} \\big[ \\phi(X_{n+1})exp \\big( - \\beta \\sum_\\limits{i = 0}^{n} \\mathbb{1}_{X_i \\notin \\{0;L \\} }\\big) | X_0 = (i,j), X_1 = (i, j-1)  \\big]\n",
    "   $\n",
    "   "
   ]
  },
  {
   "cell_type": "markdown",
   "metadata": {},
   "source": [
    "Puis (propriété de Markov), la suite $(X_{n+1})_{n \\in \\mathbb{N}}$ est une chaîne de Markov de même transition que $(X_{n})_{n \\in \\mathbb{N}}$, initialement en $X_1$. Par conséquent:\n",
    "$$v_{n+1}(i,j) = \\frac {e^{-\\beta}} {4} [v_{n}(i+1,j) + v_{n}(i,j+1) + v_{n}(i-1,j) + v_{n}(i,j-1)] $$\n",
    "\n",
    " $$v_{n+1}(i,j) - v_{n}(i,j)  = \\frac {e^{-\\beta}} {4} [v_{n}(i+1,j) + v_{n}(i,j+1) + v_{n}(i-1,j) + v_{n}(i,j-1) - 4 v_{n}(i,j)] - (1 - e^{-\\beta})v_n(i,j) $$\n"
   ]
  },
  {
   "cell_type": "markdown",
   "metadata": {},
   "source": [
    "Notons $\\tilde{\\Delta}$ le laplacien discret, qui envoie toute fonction $f: \\mathbb{D} \\to \\mathbb{R}$ sur la fonction $$\\tilde{\\Delta}f : (i,j) \\mapsto \\frac {[f(i+1,j) - f(i,j)] + [f(i, j+1)- f(i,j)] + [f(i-1, j) - f(i,j)] + [f(i, j-1) - f(i,j)]} {4} $$\n",
    "\n",
    "On peut alors réécrire l'égalité précedente sous la forme:\n",
    " $$v_{n+1}(i,j) - v_{n}(i,j)  =  {e^{-\\beta}} \\tilde{\\Delta}v_n(i,j)  - (1 - e^{-\\beta})v_n(i,j) $$\n"
   ]
  },
  {
   "cell_type": "markdown",
   "metadata": {},
   "source": [
    "$v_n$ vérifie la version discrétisée de l'équation:\n",
    "$$\\partial_t f(x,y,t) = e^{-\\beta}\\Delta f(x,y,t) - (1 - e^{-\\beta}) f(x,y,t)$$\n"
   ]
  },
  {
   "cell_type": "markdown",
   "metadata": {},
   "source": [
    "Pour $t \\to \\infty$ le régime stationnaire est atteint, auquel cas $\\partial_t f(x,y,t) = 0$. rappelons qu'on a choisi $\\beta$ de telle sorte que $\\gamma = e^{\\beta} - 1$. Ainsi pour $n$ assez grand $v_n(i)$ est proche de la valeur en $i$ de la solution de l'équation:\n",
    "### $$\\Delta f(x,y,t) - \\gamma f(x,y,t) =0 $$\n"
   ]
  },
  {
   "cell_type": "code",
   "execution_count": 57,
   "metadata": {},
   "outputs": [],
   "source": [
    "#! /usr/bin/env python\n",
    "\n",
    "import random\n",
    "import numpy as np\n",
    "import time"
   ]
  },
  {
   "cell_type": "code",
   "execution_count": 58,
   "metadata": {},
   "outputs": [],
   "source": [
    "# define phi as f is at time t = 0 - in particular, phi defines border conditions\n",
    "def phi(x, y, L):\n",
    "    if x == 0 or y == 0:\n",
    "        return 2.\n",
    "    return 0.\n",
    "vphi = np.vectorize(phi)"
   ]
  },
  {
   "cell_type": "code",
   "execution_count": 59,
   "metadata": {},
   "outputs": [],
   "source": [
    "def v_n(init, L, beta, n, K):\n",
    "    somme = 0\n",
    "    for _ in range(K):\n",
    "        x = init[0]\n",
    "        y = init[1]\n",
    "        coordList = [[x,y]]\n",
    "        number_non_touches = 0\n",
    "        for j in range(n):\n",
    "            coordList.append([x,y])\n",
    "            if x != 0 and y != 0 and y != L and x != L: # in that case the walk's fate is sealed\n",
    "                number_non_touches += 1\n",
    "                rand = random.random()\n",
    "                # Go with equal probability left, up, right or down\n",
    "                if 0 <= rand < 0.25:\n",
    "                    x -= 1\n",
    "                elif 0.25 <= rand < 0.5:\n",
    "                    x += 1\n",
    "                elif 0.5 <= rand < 0.75:\n",
    "                    y -= 1\n",
    "                else:\n",
    "                    y += 1\n",
    "                \n",
    "        somme += vphi(np.array([coord[0] for coord in coordList]),np.array([coord[1] for coord in coordList]), L)*np.exp(- beta*np.arange(n+1))\n",
    "    return somme/K\n"
   ]
  },
  {
   "cell_type": "code",
   "execution_count": 60,
   "metadata": {},
   "outputs": [],
   "source": [
    "K = 50\n",
    "L = 40\n",
    "N = 900\n",
    "beta = 1 \n"
   ]
  },
  {
   "cell_type": "code",
   "execution_count": 61,
   "metadata": {},
   "outputs": [],
   "source": [
    "arrayImages = np.zeros((N,L,L))\n",
    "for i in range(L):\n",
    "    for j in range(L):\n",
    "        ls = v_n([i,j], L, beta, N, K)\n",
    "        for n in range(N):\n",
    "            arrayImages[n][i][j] = ls[n]\n",
    "\n",
    "            \n"
   ]
  },
  {
   "cell_type": "code",
   "execution_count": 62,
   "metadata": {},
   "outputs": [
    {
     "data": {
      "application/vnd.jupyter.widget-view+json": {
       "model_id": "2c0d16fbca4d4ea8952771daf72245e7",
       "version_major": 2,
       "version_minor": 0
      },
      "text/plain": [
       "interactive(children=(IntSlider(value=0, description='frame', max=899, step=3), Output()), _dom_classes=('widg…"
      ]
     },
     "metadata": {},
     "output_type": "display_data"
    },
    {
     "data": {
      "text/plain": [
       "<function __main__._show(frame=IntSlider(value=0, description='frame', max=899, step=3))>"
      ]
     },
     "execution_count": 62,
     "metadata": {},
     "output_type": "execute_result"
    }
   ],
   "source": [
    "%matplotlib inline\n",
    "import matplotlib.pyplot as plt\n",
    "def _show(frame=widgets.IntSlider(min=0,max=len(arrayImages) - 1,step=3,value=0)):\n",
    "    fig, ax = plt.subplots(figsize=(7,7))\n",
    "    ax.imshow(arrayImages[frame][:][:].T, origin=\"lower\",\n",
    "               extent=[0, 1, 0, 1], cmap=\"jet\")\n",
    "interact(_show)"
   ]
  }
 ],
 "metadata": {
  "kernelspec": {
   "display_name": "Python 3",
   "language": "python",
   "name": "python3"
  },
  "language_info": {
   "codemirror_mode": {
    "name": "ipython",
    "version": 3
   },
   "file_extension": ".py",
   "mimetype": "text/x-python",
   "name": "python",
   "nbconvert_exporter": "python",
   "pygments_lexer": "ipython3",
   "version": "3.6.5"
  }
 },
 "nbformat": 4,
 "nbformat_minor": 2
}
