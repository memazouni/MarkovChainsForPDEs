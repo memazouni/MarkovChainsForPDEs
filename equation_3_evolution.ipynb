{
 "cells": [
  {
   "cell_type": "code",
   "execution_count": 1,
   "metadata": {},
   "outputs": [],
   "source": [
    "import random\n",
    "import numpy as np\n",
    "import matplotlib.pyplot as plt\n",
    "import time\n",
    "\n",
    "from PIL import Image\n",
    "from ipywidgets import interact, interactive, fixed, interact_manual\n",
    "from ipywidgets import interact\n",
    "import ipywidgets as widgets"
   ]
  },
  {
   "cell_type": "code",
   "execution_count": 2,
   "metadata": {},
   "outputs": [],
   "source": [
    "def phi(x, y, L):\n",
    "    \"\"\"Initial function. In particular, it also defines the edge conditions.\"\"\"\n",
    "    if x == 0 or x == L:\n",
    "        return 1\n",
    "    return 0"
   ]
  },
  {
   "cell_type": "code",
   "execution_count": 3,
   "metadata": {},
   "outputs": [],
   "source": [
    "def t_iterations(x, y, L, t):\n",
    "    \"\"\"Simulate the random walk during n iterations, starting from point (x, y).\n",
    "    Return the product of the values taken by all branches during the walk from time 0 to t in a list of length t+1.\n",
    "    \"\"\"\n",
    "    alpha = 1/L**2  # probability of dying = probability of duplicating\n",
    "    values = [phi(x, y, L)] + [0]*t\n",
    "    aliveBranches = np.zeros((L+1, L+1))  # the number of alive processes at position 0 <= x,y <= L\n",
    "    aliveBranches = [[x,y]]  # initially we have one branch\n",
    "    for n in range(1, t+1):\n",
    "        if aliveBranches == []:\n",
    "            # all branches have died. The process will no longer evolve,\n",
    "            # and we can keep the values initialized to 0 for all future times\n",
    "            return values\n",
    "        \n",
    "        branchesToDelete = []  # indices of the branches that will die during this iteration\n",
    "        branchesToAdd = []  # coordinates of the branches that be created (by duplication) during this iteration\n",
    "        for branchId, (x, y) in enumerate(aliveBranches):\n",
    "            if not (x == 0 or x == L or y == 0 or y == L):\n",
    "                # we are neither on the border nor in the cemetery\n",
    "                rand = random.random()\n",
    "                if 0 <= rand < 1 - 2*alpha:\n",
    "                    # Move the branch left, right, up or down, with equal probabilities.\n",
    "                    if 0 <= rand < 1/4*(1 - 2*alpha):\n",
    "                        x -= 1  # go left\n",
    "                    elif 1/4*(1 - 2*alpha) <= rand < 2/4*(1 - 2*alpha):\n",
    "                        x += 1  # go right\n",
    "                    elif 2/4*(1 - 2*alpha) <= rand < 3/4*(1 - 2*alpha):\n",
    "                        y -= 1  # go down\n",
    "                    else:\n",
    "                        y += 1  # go up\n",
    "                    aliveBranches[branchId] = [x, y]\n",
    "\n",
    "                elif 1 - 2*alpha <= rand < 1 - alpha:\n",
    "                    # This branch dies with probability alpha\n",
    "                    branchesToDelete.append(branchId)\n",
    "                else:\n",
    "                    # Duplicate this branch with probability alpha\n",
    "                    branchesToAdd.append([x,y])\n",
    "\n",
    "        # Remove the dead branches\n",
    "        aliveBranches = [branch for i, branch in enumerate(aliveBranches) if i not in branchesToDelete]\n",
    "        # Add the newly created branches\n",
    "        aliveBranches += branchesToAdd\n",
    "        \n",
    "        # Compute the product of the values of phi for each of our alive branches\n",
    "        if aliveBranches != []:\n",
    "            values[n] = 1  # initialize product\n",
    "            for x, y in aliveBranches:\n",
    "                values[n] *= phi(x, y, L)\n",
    "    return values"
   ]
  },
  {
   "cell_type": "code",
   "execution_count": 4,
   "metadata": {},
   "outputs": [],
   "source": [
    "def monte_carlo(x, y, L, K, t):    \n",
    "    \"\"\"Simulate K times the evolution up to time t starting from point\n",
    "    (x, y), and return the average result in a list of length t.\"\"\"\n",
    "    temporary_sum = [0]*(t+1)\n",
    "    for i in range(K):\n",
    "        sample = t_iterations(x, y, L, t)  # list of length t + 1\n",
    "        temporary_sum = [current + new for current, new in zip(temporary_sum, sample)]\n",
    "    return [x/K for x in temporary_sum]"
   ]
  },
  {
   "cell_type": "code",
   "execution_count": 5,
   "metadata": {},
   "outputs": [],
   "source": [
    "def approximate_solution(L, K, t):\n",
    "    \"\"\"Approximate solution at time t.\n",
    "    Return a list of length t, containing the approximate solution (array of size (L, L) for all intermediate times)\"\"\"\n",
    "    averages = [np.zeros((L, L)) for _ in range(t+1)]\n",
    "    start = time.time()\n",
    "    for x in range(L):\n",
    "        for y in range(L):\n",
    "            # The square associated with (x, y) is the one whose bottom left\n",
    "            # corner is at (x, y)\n",
    "            this_pos_monte_carlo = monte_carlo(x, y, L, K, t) # list of values until from 0 to t\n",
    "            for n in range(t+1):\n",
    "                averages[n][x][y] = this_pos_monte_carlo[n]\n",
    "        nowm = int((time.time() - start) // 60)\n",
    "        nows = int((time.time() - start) % 60)\n",
    "        print(\"x = {:2}/{} done, elapsed time = {:2}m {:2}s\".format(x, L-1, nowm, nows))\n",
    "    return averages"
   ]
  },
  {
   "cell_type": "code",
   "execution_count": 6,
   "metadata": {},
   "outputs": [],
   "source": [
    "def display(L, K, t):\n",
    "    approx_intermediate_images = approximate_solution(L, K, t)\n",
    "    def _show(frame=widgets.IntSlider(min=0,max=t-1,step=1,value=0)):\n",
    "        fig, ax = plt.subplots(figsize=(7,7))\n",
    "        ax.imshow(approx_intermediate_images[frame][:][:].T, origin=\"lower\",\n",
    "                   extent=[0, 1, 0, 1], cmap=\"jet\")\n",
    "    interact(_show)"
   ]
  },
  {
   "cell_type": "code",
   "execution_count": 7,
   "metadata": {
    "scrolled": false
   },
   "outputs": [],
   "source": [
    "def test():\n",
    "    \"\"\"Main function.\"\"\"\n",
    "    L = 40  # discretize with squares of length 1/L\n",
    "    K = 100  # number of simulations per point to compute the average result\n",
    "    t = 200\n",
    "    print(\"L = {}, K = {}, t = {}\".format(L, K, t))\n",
    "    display(L, K, t)"
   ]
  },
  {
   "cell_type": "code",
   "execution_count": 8,
   "metadata": {},
   "outputs": [
    {
     "name": "stdout",
     "output_type": "stream",
     "text": [
      "L = 40, K = 100, t = 200\n",
      "x =  0/39 done, elapsed time =  0m  1s\n",
      "x =  1/39 done, elapsed time =  0m  2s\n",
      "x =  2/39 done, elapsed time =  0m  4s\n",
      "x =  3/39 done, elapsed time =  0m  6s\n",
      "x =  4/39 done, elapsed time =  0m  8s\n",
      "x =  5/39 done, elapsed time =  0m 10s\n",
      "x =  6/39 done, elapsed time =  0m 12s\n",
      "x =  7/39 done, elapsed time =  0m 14s\n",
      "x =  8/39 done, elapsed time =  0m 16s\n",
      "x =  9/39 done, elapsed time =  0m 18s\n",
      "x = 10/39 done, elapsed time =  0m 21s\n",
      "x = 11/39 done, elapsed time =  0m 23s\n",
      "x = 12/39 done, elapsed time =  0m 25s\n",
      "x = 13/39 done, elapsed time =  0m 27s\n",
      "x = 14/39 done, elapsed time =  0m 29s\n",
      "x = 15/39 done, elapsed time =  0m 32s\n",
      "x = 16/39 done, elapsed time =  0m 34s\n",
      "x = 17/39 done, elapsed time =  0m 36s\n",
      "x = 18/39 done, elapsed time =  0m 38s\n",
      "x = 19/39 done, elapsed time =  0m 40s\n",
      "x = 20/39 done, elapsed time =  0m 43s\n",
      "x = 21/39 done, elapsed time =  0m 45s\n",
      "x = 22/39 done, elapsed time =  0m 47s\n",
      "x = 23/39 done, elapsed time =  0m 50s\n",
      "x = 24/39 done, elapsed time =  0m 52s\n",
      "x = 25/39 done, elapsed time =  0m 54s\n",
      "x = 26/39 done, elapsed time =  0m 56s\n",
      "x = 27/39 done, elapsed time =  0m 59s\n",
      "x = 28/39 done, elapsed time =  1m  1s\n",
      "x = 29/39 done, elapsed time =  1m  3s\n",
      "x = 30/39 done, elapsed time =  1m  6s\n",
      "x = 31/39 done, elapsed time =  1m  8s\n",
      "x = 32/39 done, elapsed time =  1m 10s\n",
      "x = 33/39 done, elapsed time =  1m 12s\n",
      "x = 34/39 done, elapsed time =  1m 14s\n",
      "x = 35/39 done, elapsed time =  1m 16s\n",
      "x = 36/39 done, elapsed time =  1m 18s\n",
      "x = 37/39 done, elapsed time =  1m 20s\n",
      "x = 38/39 done, elapsed time =  1m 22s\n",
      "x = 39/39 done, elapsed time =  1m 23s\n"
     ]
    },
    {
     "data": {
      "application/vnd.jupyter.widget-view+json": {
       "model_id": "ca2f7891383b4b19b6a23f900b6cf282",
       "version_major": 2,
       "version_minor": 0
      },
      "text/plain": [
       "interactive(children=(IntSlider(value=0, description='frame', max=199), Output()), _dom_classes=('widget-inter…"
      ]
     },
     "metadata": {},
     "output_type": "display_data"
    }
   ],
   "source": [
    "test()"
   ]
  }
 ],
 "metadata": {
  "kernelspec": {
   "display_name": "Python 3",
   "language": "python",
   "name": "python3"
  },
  "language_info": {
   "codemirror_mode": {
    "name": "ipython",
    "version": 3
   },
   "file_extension": ".py",
   "mimetype": "text/x-python",
   "name": "python",
   "nbconvert_exporter": "python",
   "pygments_lexer": "ipython3",
   "version": "3.6.5"
  }
 },
 "nbformat": 4,
 "nbformat_minor": 2
}
