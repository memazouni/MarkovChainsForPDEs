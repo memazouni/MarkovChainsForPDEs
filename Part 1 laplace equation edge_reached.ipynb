{
 "cells": [
  {
   "cell_type": "code",
   "execution_count": 1,
   "metadata": {},
   "outputs": [],
   "source": [
    "#! /usr/bin/env python\n",
    "\n",
    "import random\n",
    "import numpy as np\n",
    "import matplotlib.pyplot as plt\n",
    "import time"
   ]
  },
  {
   "cell_type": "code",
   "execution_count": 2,
   "metadata": {},
   "outputs": [],
   "source": [
    "def phi(x, y, L):\n",
    "    \"\"\"Edge function.\n",
    "    Equals 1 on vertical edges (x = 0 or x = L);\n",
    "    Equals 0 on horizontal edges (y = 0 or y = L).\n",
    "    If on a corner, vertical edges take precedence (i.e. the function is 1).\"\"\"\n",
    "    assert x == 0 or x == L or y == 0 or y == L  # the point is on one edge\n",
    "    if x == 0 or x == L:\n",
    "        return 1\n",
    "    else:\n",
    "        return 0\n",
    "\n"
   ]
  },
  {
   "cell_type": "code",
   "execution_count": 3,
   "metadata": {},
   "outputs": [],
   "source": [
    "def value_on_point_reached(x, y, L):\n",
    "    \"\"\"x, y: integer coordinates of start point (in square [0,L-1]x[0,L-1]).\n",
    "    L and K: see test().\n",
    "    Simulate one random walk from the start point and return the value of the\n",
    "    edge function when the edge is reached.\"\"\"\n",
    "\n",
    "    while  (x != 0 and x != L and y != 0 and y != L):  # while not on an edge\n",
    "        rand = random.random()\n",
    "        # Go with equal probability left, up, right or down\n",
    "        if 0 <= rand < 0.25:\n",
    "            x -= 1\n",
    "        elif 0.25 <= rand < 0.5:\n",
    "            x += 1\n",
    "        elif 0.5 <= rand < 0.75:\n",
    "            y -= 1\n",
    "        else:\n",
    "            y += 1\n",
    "    # We have now reached an edge.\n",
    "    return phi(x, y, L)\n",
    "\n"
   ]
  },
  {
   "cell_type": "code",
   "execution_count": 4,
   "metadata": {},
   "outputs": [],
   "source": [
    "def monte_carlo(x, y, L, K):\n",
    "    \"\"\"Simulate K times on point (x, y) and return the average result.\"\"\"\n",
    "    sum = 0\n",
    "    for _ in range(K):\n",
    "        sum += value_on_point_reached(x, y, L)\n",
    "    return sum/K\n",
    "\n"
   ]
  },
  {
   "cell_type": "code",
   "execution_count": 5,
   "metadata": {},
   "outputs": [],
   "source": [
    "def approximate_solution(L, K):\n",
    "    start = time.time()\n",
    "    averages = np.zeros((L, L))\n",
    "    for x in range(L):\n",
    "        for y in range(L):\n",
    "            averages[x][y] = monte_carlo(x, y, L, K)\n",
    "    print(\"time L = {} K = {}: {:.2f}s\".format(L, K, time.time() - start))\n",
    "    return averages"
   ]
  },
  {
   "cell_type": "code",
   "execution_count": 6,
   "metadata": {},
   "outputs": [],
   "source": [
    "def plot_approximate_solution(L, K):\n",
    "    plt.imshow(approximate_solution(L, K).T, origin=\"lower\",\n",
    "               extent=[0, 1, 0, 1], cmap=\"jet\")\n",
    "    plt.show()\n"
   ]
  },
  {
   "cell_type": "code",
   "execution_count": 7,
   "metadata": {},
   "outputs": [],
   "source": [
    "def test():\n",
    "    \"\"\"Main function.\"\"\"\n",
    "    L = 50  # discretize with squares of length 1/L\n",
    "    K = 50  # number of simulations per point to compute the average result\n",
    "    plot_approximate_solution(L, K)\n"
   ]
  },
  {
   "cell_type": "code",
   "execution_count": 8,
   "metadata": {},
   "outputs": [
    {
     "name": "stdout",
     "output_type": "stream",
     "text": [
      "time L = 50 K = 50: 14.43s\n"
     ]
    },
    {
     "data": {
      "image/png": "[encoded data removed]",
      "text/plain": [
       "<Figure size 432x288 with 1 Axes>"
      ]
     },
     "metadata": {},
     "output_type": "display_data"
    }
   ],
   "source": [
    "test()"
   ]
  }
 ],
 "metadata": {
  "kernelspec": {
   "display_name": "Python 3",
   "language": "python",
   "name": "python3"
  },
  "language_info": {
   "codemirror_mode": {
    "name": "ipython",
    "version": 3
   },
   "file_extension": ".py",
   "mimetype": "text/x-python",
   "name": "python",
   "nbconvert_exporter": "python",
   "pygments_lexer": "ipython3",
   "version": "3.6.5"
  }
 },
 "nbformat": 4,
 "nbformat_minor": 2
}
