{
 "cells": [
  {
   "cell_type": "code",
   "execution_count": 1,
   "metadata": {},
   "outputs": [],
   "source": [
    "import random\n",
    "import numpy as np\n",
    "import matplotlib.pyplot as plt\n",
    "import time\n",
    "\n",
    "from PIL import Image\n",
    "from ipywidgets import interact, interactive, fixed, interact_manual\n",
    "from ipywidgets import interact\n",
    "import ipywidgets as widgets"
   ]
  },
  {
   "cell_type": "code",
   "execution_count": 2,
   "metadata": {},
   "outputs": [],
   "source": [
    "def phi(x, y, L):\n",
    "    \"\"\"Edge function.\"\"\"\n",
    "    assert x == 0 or x == L or y == 0 or y == L\n",
    "    if x == 0 or x == L:\n",
    "        return 1\n",
    "    return 0"
   ]
  },
  {
   "cell_type": "code",
   "execution_count": 3,
   "metadata": {},
   "outputs": [],
   "source": [
    "def value_on_point_reached(x, y, L, alpha):\n",
    "    \"\"\"x, y: integer coordinates of start point (in square [0,L-1]x[0,L-1]).\n",
    "    Simulate one random walk from the start point and return the value of the\n",
    "    edge function when the edge is reached, or 0 if the branch died before reaching an edge.\"\"\"\n",
    "    q = (1 - alpha)/4\n",
    "    while  (x != 0 and x != L and y != 0 and y != L):  # while not on an edge\n",
    "        rand = random.random()\n",
    "        # Go with equal probability left, up, right or down\n",
    "        if 0 <= rand < q:\n",
    "            x -= 1\n",
    "        elif q <= rand < 2*q:\n",
    "            x += 1\n",
    "        elif 2*q <= rand < 3*q:\n",
    "            y -= 1\n",
    "        elif 3*q <= rand < 4*q:\n",
    "            y += 1\n",
    "        else:\n",
    "            # with probability alpha, die.\n",
    "            return 0\n",
    "    # We have now reached an edge.\n",
    "    return phi(x, y, L)"
   ]
  },
  {
   "cell_type": "code",
   "execution_count": 4,
   "metadata": {},
   "outputs": [],
   "source": [
    "def monte_carlo(x, y, L, alpha, K):\n",
    "    \"\"\"Simulate K times on point (x, y) and return the average result.\"\"\"\n",
    "    sum = 0\n",
    "    for _ in range(K):\n",
    "        sum += value_on_point_reached(x, y, L, alpha)\n",
    "    return sum/K"
   ]
  },
  {
   "cell_type": "code",
   "execution_count": 5,
   "metadata": {},
   "outputs": [],
   "source": [
    "def approximate_solution(L, alpha, K):\n",
    "    start = time.time()\n",
    "    averages = np.zeros((L, L))\n",
    "    for x in range(L):\n",
    "        for y in range(L):\n",
    "            averages[x][y] = monte_carlo(x, y, L, alpha, K)\n",
    "        nowm = int((time.time() - start) // 60)\n",
    "        nows = int((time.time() - start) % 60)\n",
    "        print(\"x = {:2}/{} done, elapsed time = {:2}m {:2}s\".format(x, L-1, nowm, nows))\n",
    "    return averages"
   ]
  },
  {
   "cell_type": "code",
   "execution_count": 6,
   "metadata": {},
   "outputs": [],
   "source": [
    "def plot_approximate_solution(L, alpha, K):\n",
    "    plt.imshow(approximate_solution(L, alpha, K).T, origin=\"lower\",\n",
    "               extent=[0, 1, 0, 1], cmap=\"jet\")\n",
    "    plt.show()"
   ]
  },
  {
   "cell_type": "code",
   "execution_count": 7,
   "metadata": {},
   "outputs": [
    {
     "name": "stdout",
     "output_type": "stream",
     "text": [
      "L = 40, K = 100, gamma = 100\n",
      "x =  0/39 done, elapsed time =  0m  0s\n",
      "x =  1/39 done, elapsed time =  0m  0s\n",
      "x =  2/39 done, elapsed time =  0m  0s\n",
      "x =  3/39 done, elapsed time =  0m  0s\n",
      "x =  4/39 done, elapsed time =  0m  0s\n",
      "x =  5/39 done, elapsed time =  0m  0s\n",
      "x =  6/39 done, elapsed time =  0m  0s\n",
      "x =  7/39 done, elapsed time =  0m  0s\n",
      "x =  8/39 done, elapsed time =  0m  0s\n",
      "x =  9/39 done, elapsed time =  0m  0s\n",
      "x = 10/39 done, elapsed time =  0m  0s\n",
      "x = 11/39 done, elapsed time =  0m  0s\n",
      "x = 12/39 done, elapsed time =  0m  0s\n",
      "x = 13/39 done, elapsed time =  0m  0s\n",
      "x = 14/39 done, elapsed time =  0m  0s\n",
      "x = 15/39 done, elapsed time =  0m  0s\n",
      "x = 16/39 done, elapsed time =  0m  0s\n",
      "x = 17/39 done, elapsed time =  0m  0s\n",
      "x = 18/39 done, elapsed time =  0m  0s\n",
      "x = 19/39 done, elapsed time =  0m  0s\n",
      "x = 20/39 done, elapsed time =  0m  0s\n",
      "x = 21/39 done, elapsed time =  0m  0s\n",
      "x = 22/39 done, elapsed time =  0m  0s\n",
      "x = 23/39 done, elapsed time =  0m  0s\n",
      "x = 24/39 done, elapsed time =  0m  0s\n",
      "x = 25/39 done, elapsed time =  0m  0s\n",
      "x = 26/39 done, elapsed time =  0m  0s\n",
      "x = 27/39 done, elapsed time =  0m  0s\n",
      "x = 28/39 done, elapsed time =  0m  0s\n",
      "x = 29/39 done, elapsed time =  0m  0s\n",
      "x = 30/39 done, elapsed time =  0m  0s\n",
      "x = 31/39 done, elapsed time =  0m  0s\n",
      "x = 32/39 done, elapsed time =  0m  0s\n",
      "x = 33/39 done, elapsed time =  0m  0s\n",
      "x = 34/39 done, elapsed time =  0m  0s\n",
      "x = 35/39 done, elapsed time =  0m  0s\n",
      "x = 36/39 done, elapsed time =  0m  0s\n",
      "x = 37/39 done, elapsed time =  0m  1s\n",
      "x = 38/39 done, elapsed time =  0m  1s\n",
      "x = 39/39 done, elapsed time =  0m  1s\n"
     ]
    },
    {
     "data": {
      "image/png": "[encoded data removed]",
      "text/plain": [
       "<Figure size 432x288 with 1 Axes>"
      ]
     },
     "metadata": {},
     "output_type": "display_data"
    }
   ],
   "source": [
    "def test():\n",
    "    \"\"\"Main function.\"\"\"\n",
    "    L = 40  # discretize with squares of length 1/L\n",
    "    K = 100  # number of simulations per point to compute the average result\n",
    "    gamma = 100\n",
    "    print(\"L = {}, K = {}, gamma = {}\".format(L, K, gamma))\n",
    "    alpha = gamma/L**2\n",
    "    plot_approximate_solution(L, alpha, K)\n",
    "    \n",
    "if __name__ == \"__main__\":\n",
    "    test()"
   ]
  }
 ],
 "metadata": {
  "kernelspec": {
   "display_name": "Python 3",
   "language": "python",
   "name": "python3"
  },
  "language_info": {
   "codemirror_mode": {
    "name": "ipython",
    "version": 3
   },
   "file_extension": ".py",
   "mimetype": "text/x-python",
   "name": "python",
   "nbconvert_exporter": "python",
   "pygments_lexer": "ipython3",
   "version": "3.6.5"
  }
 },
 "nbformat": 4,
 "nbformat_minor": 2
}
