{
 "cells": [
  {
   "cell_type": "code",
   "execution_count": 1,
   "metadata": {},
   "outputs": [],
   "source": [
    "#! /usr/bin/env python\n",
    "\n",
    "import random\n",
    "import numpy as np\n",
    "import matplotlib.pyplot as plt\n",
    "import time\n",
    "\n",
    "from PIL import Image\n",
    "from ipywidgets import interact, interactive, fixed, interact_manual\n",
    "from ipywidgets import interact\n",
    "import ipywidgets as widgets"
   ]
  },
  {
   "cell_type": "code",
   "execution_count": 2,
   "metadata": {},
   "outputs": [],
   "source": [
    "def phi(x, y, L):\n",
    "    \"\"\"Edge function.\"\"\"\n",
    "    assert x == 0 or x == L or y == 0 or y == L\n",
    "    if x == 0 or x == L:\n",
    "        return 1\n",
    "    return 0"
   ]
  },
  {
   "cell_type": "code",
   "execution_count": 3,
   "metadata": {},
   "outputs": [],
   "source": [
    "def value_on_point_reached(x, y, L, alpha):\n",
    "    \"\"\"Simulate the random walk until the cemetery or the edge is reached, starting from point (x, y).\n",
    "    If the cemetery is reached, return 0.\n",
    "    If the edge is reached, return the value of phi for this position.\n",
    "    \"\"\"\n",
    "    while not (x == 0 or x == L or y == 0 or y == L) :\n",
    "        rand = random.random()\n",
    "        q = (1-alpha)/4\n",
    "        if 0 <= rand < q:\n",
    "            x -= 1  # go left\n",
    "        elif q <= rand < 2*q:\n",
    "            x += 1  # go right\n",
    "        elif 2*q <= rand < 3*q:\n",
    "            y -= 1  # go down\n",
    "        elif 3*q <= rand < 4*q:\n",
    "            y += 1  # go up\n",
    "        else:\n",
    "            # this iteration made us reach the cemetery (probability alpha)\n",
    "            return 0\n",
    "    # We have left the while loop for having reached an edge. Return the value of phi at this position.\n",
    "    return phi(x, y, L)\n",
    "    "
   ]
  },
  {
   "cell_type": "code",
   "execution_count": 4,
   "metadata": {},
   "outputs": [],
   "source": [
    "def monte_carlo(x, y, L, alpha, K):\n",
    "    \"\"\"Simulate K times on point (x, y) and return the average result.\"\"\"\n",
    "    sum = 0\n",
    "    for _ in range(K):\n",
    "        sum += value_on_point_reached(x, y, L, alpha)\n",
    "    return sum/K"
   ]
  },
  {
   "cell_type": "code",
   "execution_count": 5,
   "metadata": {},
   "outputs": [],
   "source": [
    "def approximate_solution(L, alpha, K):\n",
    "    start = time.time()\n",
    "    averages = np.zeros((L, L))\n",
    "    for x in range(L):\n",
    "        for y in range(L):\n",
    "            averages[x][y] = monte_carlo(x, y, L, alpha, K)\n",
    "    print(\"time L = {} K = {} gamma = {}: {:.2f}s\".format(L, K, alpha*L**2, time.time() - start))\n",
    "    return averages"
   ]
  },
  {
   "cell_type": "code",
   "execution_count": 6,
   "metadata": {},
   "outputs": [],
   "source": [
    "def plot_approximate_solution(L, alpha, K):\n",
    "    plt.imshow(approximate_solution(L, alpha, K).T, origin=\"lower\",\n",
    "               extent=[0, 1, 0, 1], cmap=\"jet\")\n",
    "    plt.show()"
   ]
  },
  {
   "cell_type": "code",
   "execution_count": 7,
   "metadata": {},
   "outputs": [
    {
     "name": "stdout",
     "output_type": "stream",
     "text": [
      "time L = 50 K = 100 gamma = 100.0: 2.65s\n"
     ]
    },
    {
     "data": {
      "image/png": "[encoded data removed]",
      "text/plain": [
       "<Figure size 432x288 with 1 Axes>"
      ]
     },
     "metadata": {},
     "output_type": "display_data"
    }
   ],
   "source": [
    "def test():\n",
    "    \"\"\"Main function.\"\"\"\n",
    "    L = 50  # discretize with squares of length 1/L\n",
    "    K = 100  # number of simulations per point to compute the average result\n",
    "    gamma = 100\n",
    "    alpha = gamma/L**2\n",
    "    plot_approximate_solution(L, alpha, K)\n",
    "    \n",
    "if __name__ == \"__main__\":\n",
    "    test()"
   ]
  }
 ],
 "metadata": {
  "kernelspec": {
   "display_name": "Python 3",
   "language": "python",
   "name": "python3"
  },
  "language_info": {
   "codemirror_mode": {
    "name": "ipython",
    "version": 3
   },
   "file_extension": ".py",
   "mimetype": "text/x-python",
   "name": "python",
   "nbconvert_exporter": "python",
   "pygments_lexer": "ipython3",
   "version": "3.6.5"
  }
 },
 "nbformat": 4,
 "nbformat_minor": 2
}
