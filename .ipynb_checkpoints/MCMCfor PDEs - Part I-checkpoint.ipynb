{
 "cells": [
  {
   "cell_type": "markdown",
   "metadata": {},
   "source": [
    "# First equation: \n",
    "\n",
    "Let $f$ be the only solution to the following differential equation:\n",
    "### $$\\forall (x,y) \\in \\mathbb{D}, \\partial^2_x f(x,y) + \\partial^2_y f(x,y) = 0 $$\n",
    "with the following Dirichlet border conditions:\n",
    "### $$\\forall (x,y) \\in \\partial \\mathbb{D}, f(x,y) =  \\phi(x,y)$$ \n",
    "where:\n",
    "* $\\mathbb{D} = [0;1]^2$ is the square of side length $1$.\n",
    "* $\\partial \\mathbb{D} = \\{ 0;1\\} \\times [0;1] \\cup  [0;1]\\times \\{0;1\\}$ is the border of $\\mathbb{D}$.\n",
    "* $\\phi$ is a function $\\partial \\mathbb{D} \\to \\mathbb{R}$.\n",
    "\n",
    "\n",
    "Let $L \\in \\mathbb{N}^*$: we want to build $u : \\{0, ..., L-1\\} \\times \\{0, ..., L-1\\} \\to \\mathbb{R}$ such that for every $0 \\leq i < L$ and $0 \\leq j < L$, $u(i,j)$ approaches $f(\\frac {i} {L}, \\frac {j} {L})$.\n",
    "\n",
    "Consider a symmetric random walk $(X_n)_{n \\in \\mathbb{N}}$ on the lattice $\\mathbb{Z}^2$. For every $n \\in \\mathbb{N}$, for every neighbour $(k,l)$ of $X_n$, we have:\n",
    "$$\\mathbb{P}[X_{n+1} = (k,l)] = \\frac 1 4$$\n",
    "\n",
    "We now consider the stopping time $T = \\inf \\{n \\in \\mathbb{N} | X_n \\notin \\{0, ..., L-1\\}^2 \\}$. Define for every tuple $(i,j)$ in $\\{0, ..., L-1\\}^2$: \n",
    "$$u(i,j) = \\mathbb{E}[\\phi(X_T)|X_0 = (i,j)]$$\n",
    "\n",
    "We will now show that $u$ checks a discretised version of the partial differential equation introduced above. Let $(i,j)$ be a point in $\\{0, ..., L-1\\}^2$: \n",
    "\n",
    "$$u(i,j) = \\mathbb{E}[\\phi(X_T)\\mathbb{1}_{X_1 = (i+1, j)}|X_0 = (i,j)] \\\\  \n",
    "+ \\mathbb{E}[\\phi(X_T)\\mathbb{1}_{X_1 = (i-1, j)}|X_0 = (i,j)] \\\\\n",
    "+ \\mathbb{E}[\\phi(X_T)\\mathbb{1}_{X_1 = (i, j+1}|X_0 = (i,j)] \\\\\n",
    "+\\mathbb{E}[\\phi(X_T)\\mathbb{1}_{X_1 = (i, j-1}|X_0 = (i,j)] $$\n",
    "\n",
    "The Markov property implies that:\n",
    "$$u(i,j) = \\mathbb{P}[X_1 = (i+1, j) | X_0 = (i,j)] \\times \\mathbb{E}[\\phi(X_T)|X_1 = (i+1, j)] \\\\  \n",
    "+ \\mathbb{P}[X_1 = (i-1, j) | X_0 = (i,j)] \\times \\mathbb{E}[\\phi(X_T)|X_1 = (i-1, j)] \\\\\n",
    "+ \\mathbb{P}[X_1 = (i, j+1) | X_0 = (i,j)] \\times \\mathbb{E}[\\phi(X_T)|X_1 = (i, j+1)] \\\\\n",
    "+ \\mathbb{P}[X_1 = (i, j-1) | X_0 = (i,j)] \\times \\mathbb{E}[\\phi(X_T)|X_1 = (i, j-1)] $$\n",
    "\n",
    "Since the random walk is symmetric:\n",
    "$$4u(i,j) = u(i+1, j) + u(i-1, j) + u(i, j+1) + u(i, j-1)$$\n",
    "Hence:\n",
    "$$\\boxed{\\forall (i,j) \\in \\{0, ..., L-1\\}^2, \\tilde \\Delta u(i,j) = 0}$$\n",
    "with $\\tilde \\Delta$ the discretised Laplacian."
   ]
  },
  {
   "cell_type": "code",
   "execution_count": 1,
   "metadata": {},
   "outputs": [],
   "source": [
    "#! /usr/bin/env python\n",
    "\n",
    "import random\n",
    "import numpy as np\n",
    "import matplotlib.pyplot as plt\n",
    "import time"
   ]
  },
  {
   "cell_type": "code",
   "execution_count": 2,
   "metadata": {},
   "outputs": [],
   "source": [
    "def phi(x, y, L):\n",
    "    \"\"\"Edge function.\n",
    "    Equals 1 on vertical edges (x = 0 or x = L);\n",
    "    Equals 0 on horizontal edges (y = 0 or y = L).\n",
    "    If on a corner, vertical edges take precedence (i.e. the function is 1).\"\"\"\n",
    "    assert x == 0 or x == L or y == 0 or y == L  # the point is on one edge\n",
    "    if x == 0 or x == L:\n",
    "        return 1\n",
    "    else:\n",
    "        return 0\n",
    "\n"
   ]
  },
  {
   "cell_type": "code",
   "execution_count": 3,
   "metadata": {},
   "outputs": [],
   "source": [
    "def value_on_point_reached(x, y, L):\n",
    "    \"\"\"x, y: integer coordinates of start point (in square [0,L-1]x[0,L-1]).\n",
    "    L and K: see test().\n",
    "    Simulate one random walk from the start point and return the value of the\n",
    "    edge function when the edge is reached.\"\"\"\n",
    "\n",
    "    while  (x != 0 and x != L and y != 0 and y != L):  # while not on an edge\n",
    "        rand = random.random()\n",
    "        # Go with equal probability left, up, right or down\n",
    "        if 0 <= rand < 0.25:\n",
    "            x -= 1\n",
    "        elif 0.25 <= rand < 0.5:\n",
    "            x += 1\n",
    "        elif 0.5 <= rand < 0.75:\n",
    "            y -= 1\n",
    "        else:\n",
    "            y += 1\n",
    "    # We have now reached an edge.\n",
    "    return phi(x, y, L)\n",
    "\n"
   ]
  },
  {
   "cell_type": "code",
   "execution_count": 4,
   "metadata": {},
   "outputs": [],
   "source": [
    "def monte_carlo(x, y, L, K):\n",
    "    \"\"\"Simulate K times on point (x, y) and return the average result.\"\"\"\n",
    "    sum = 0\n",
    "    for _ in range(K):\n",
    "        sum += value_on_point_reached(x, y, L)\n",
    "    return sum/K\n",
    "\n"
   ]
  },
  {
   "cell_type": "code",
   "execution_count": 5,
   "metadata": {},
   "outputs": [],
   "source": [
    "def approximate_solution(L, K):\n",
    "    top = time.time()\n",
    "    averages = np.zeros((L, L))\n",
    "    for x in range(L):\n",
    "        for y in range(L):\n",
    "            averages[x][y] = monte_carlo(x, y, L, K)\n",
    "    print(\"time L =\", L, \"K =\", K, \": \", time.time()-top)\n",
    "    return averages\n",
    "\n",
    "\n"
   ]
  },
  {
   "cell_type": "code",
   "execution_count": 6,
   "metadata": {},
   "outputs": [],
   "source": [
    "def plot_approximate_solution(L, K):\n",
    "    plt.imshow(approximate_solution(L, K).T, origin=\"lower\",\n",
    "               extent=[0, 1, 0, 1], cmap=\"jet\")\n",
    "    plt.show()\n"
   ]
  },
  {
   "cell_type": "code",
   "execution_count": 10,
   "metadata": {},
   "outputs": [],
   "source": [
    "import time\n",
    "def test():\n",
    "    \"\"\"Main function.\"\"\"\n",
    "    L = 50  # discretize with squares of length 1/L\n",
    "    K = 50  # number of simulations per point to compute the average result\n",
    "    start_time = time.time()\n",
    "    plot_approximate_solution(L, K)\n",
    "    print(time.time() - start_time)"
   ]
  },
  {
   "cell_type": "code",
   "execution_count": 8,
   "metadata": {},
   "outputs": [
    {
     "name": "stdout",
     "output_type": "stream",
     "text": [
      "time L = 50 K = 50 :  15.3229079246521\n"
     ]
    },
    {
     "data": {
      "image/png": "[encoded data removed]",
      "text/plain": [
       "<Figure size 432x288 with 1 Axes>"
      ]
     },
     "metadata": {
      "needs_background": "light"
     },
     "output_type": "display_data"
    }
   ],
   "source": [
    "test()"
   ]
  },
  {
   "cell_type": "code",
   "execution_count": null,
   "metadata": {},
   "outputs": [],
   "source": []
  }
 ],
 "metadata": {
  "kernelspec": {
   "display_name": "Python 3",
   "language": "python",
   "name": "python3"
  },
  "language_info": {
   "codemirror_mode": {
    "name": "ipython",
    "version": 3
   },
   "file_extension": ".py",
   "mimetype": "text/x-python",
   "name": "python",
   "nbconvert_exporter": "python",
   "pygments_lexer": "ipython3",
   "version": "3.6.5"
  }
 },
 "nbformat": 4,
 "nbformat_minor": 2
}
