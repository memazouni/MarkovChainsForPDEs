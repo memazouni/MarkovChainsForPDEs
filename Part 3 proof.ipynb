{
 "cells": [
  {
   "cell_type": "markdown",
   "metadata": {},
   "source": [
    "## 1. Equation\n",
    "\n",
    "Let's now look at a nonlinear equation:\n",
    "### $$\\partial^2_x f(x,y) + \\partial^2_y f(x,y) - 2f(x,y) + f(x,y)^2 = 0$$\n",
    "\n",
    "with the following Dirichlet border conditions:\n",
    "### $$\\forall (x,y) \\in \\partial \\mathbb{D}, f(x,y) =  \\phi(x,y)$$ \n",
    "where:\n",
    "* $\\mathbb{D} = [0;1]^2$ is the square of side length $1$.\n",
    "* $\\partial \\mathbb{D} = \\{ 0;1\\} \\times [0;1] \\cup  [0;1]\\times \\{0;1\\}$ is the border of $\\mathbb{D}$.\n",
    "* $\\phi$ is a function $\\partial \\mathbb{D} \\to \\mathbb{R}$.\n",
    "\n",
    "Let $L \\in \\mathbb{N}^*$: we want to build $u : \\{0, ..., L-1\\} \\times \\{0, ..., L-1\\} \\to \\mathbb{R}$ such that for every $0 \\leq i < L$ and $0 \\leq j < L$, $u(i,j)$ approaches $f(\\frac {i} {L}, \\frac {j} {L})$. We call $\\mathcal{D}$ the lattice $\\{0, ..., L\\}^2$, and $\\partial \\mathcal{D} = \\{0,L\\} \\times \\{0, ..., L\\} \\sqcup \\{0, ..., L\\} \\times \\{0,L \\}$ its border.\n",
    "\n",
    "## 2. Random Walk\n",
    "\n",
    "In order to handle the quadratic extra term, we're going to add a layer of complexity by allowing our process to branch. Not only does our random walk move and die: it can also duplicate! \n",
    "\n",
    "This begs a more rigourous explanation: let $(i,j) \\in \\mathcal{D}$ be a position in the lattice. We introduce a sequence $(X_n)_{n \\in \\mathbb{N}}$ of random vectors of variable dimension, the components  of which stand for the branches of our process that haven't died yet (the heads of the hydra that haven't been cut). The $(X_n)$ are defined such that:\n",
    "* The sequence starts at $(i,j)$: $X_0 = [(i,j)]$\n",
    "* For every $n \\in \\mathbb{N}$, every branch can with equal probability $1/3$:\n",
    " * **Die**, in which case there is no corresponding component in the subsequent vector $X_{n+1}$.\n",
    " * **Live**: move up down, left or right with probability $1/4$ if not on the border, else stay put. The corresponding component in $X_{n+1}$ contains the new position.\n",
    " * **Duplicate**: don't move, but the next vector will have (at least) an extra component containing the branche's present coordinates.\n",
    " \n",
    " \n",
    "## 3. Approximation\n",
    "\n",
    "We introduce the stopping times:\n",
    "* $T = \\inf \\{n \\in \\mathbb{N} | X_n = \\dagger \\}$ is the first time at which **all branches have died**.\n",
    "* $\\tau = \\inf \\{n \\in \\mathbb{N} | X_n \\in \\partial \\mathcal{D} \\}$ is the first time at which **all branches have reached the border**.\n",
    "\n",
    " \n",
    "We define $u(i,j) = \\mathbb{E}\\big[ \\prod\\limits_{i} \\tilde{\\phi}(X^{(i)}_{\\tau}) \\mathbb{1}_{\\tau < T} | X_0 = [(i,j)] \\big]$, where $\\tilde{\\phi}$ sends $(i,j) \\in \\partial \\mathcal{D}$ to $\\phi(i/L, j/L)$.\n",
    "\n",
    "Ok, let's show that $u$ defined as above does indeed provide us with a reasonable approximation for our differential equation."
   ]
  }
 ],
 "metadata": {
  "kernelspec": {
   "display_name": "Python 3",
   "language": "python",
   "name": "python3"
  },
  "language_info": {
   "codemirror_mode": {
    "name": "ipython",
    "version": 3
   },
   "file_extension": ".py",
   "mimetype": "text/x-python",
   "name": "python",
   "nbconvert_exporter": "python",
   "pygments_lexer": "ipython3",
   "version": "3.6.5"
  }
 },
 "nbformat": 4,
 "nbformat_minor": 2
}
