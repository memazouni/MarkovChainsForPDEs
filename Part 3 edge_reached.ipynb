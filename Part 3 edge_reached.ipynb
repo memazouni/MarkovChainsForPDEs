{
 "cells": [
  {
   "cell_type": "code",
   "execution_count": 1,
   "metadata": {},
   "outputs": [],
   "source": [
    "#! /usr/bin/env python\n",
    "\n",
    "import random\n",
    "import numpy as np\n",
    "import matplotlib.pyplot as plt\n",
    "import time\n",
    "from decimal import Decimal  # to deal with very large floats\n",
    "\n",
    "from PIL import Image\n",
    "from ipywidgets import interact, interactive, fixed, interact_manual\n",
    "from ipywidgets import interact\n",
    "import ipywidgets as widgets"
   ]
  },
  {
   "cell_type": "code",
   "execution_count": 2,
   "metadata": {},
   "outputs": [],
   "source": [
    "def phi(x, y, L):\n",
    "    \"\"\"Edge function.\"\"\"\n",
    "    assert x == 0 or x == L or y == 0 or y == L\n",
    "    if x == 0 or x == L:\n",
    "        return 1\n",
    "    return 0"
   ]
  },
  {
   "cell_type": "code",
   "execution_count": 3,
   "metadata": {},
   "outputs": [],
   "source": [
    "def is_on_edge(x, y, L):\n",
    "    \"\"\"Return whether the point (x, y) is on an edge.\"\"\"\n",
    "    return (x == 0 or x == L or y == 0 or y == L)"
   ]
  },
  {
   "cell_type": "code",
   "execution_count": 4,
   "metadata": {},
   "outputs": [],
   "source": [
    "def value_on_points_reached(x, y, L):\n",
    "    \"\"\"Simulate the random walk, starting from point (x, y), until all branches have died or reached an edge.\n",
    "    If no branch reached an edge (all branches died before), return 0.\n",
    "    Otherwise, return the product of the values of all branches having reached an edge.\n",
    "    \"\"\"\n",
    "    if is_on_edge(x, y, L):\n",
    "        return phi(x, y, L)\n",
    "    \n",
    "    # Now we start with a single branch, initially not on an edge.\n",
    "    unfixedBranches = [[x,y]]  # initially we have one branch\n",
    "    fixedBranches = []  # the branches having reached an edge get fixed there\n",
    "    while len(unfixedBranches) > 0:\n",
    "        branchesToDelete = []  # indices of the branches that will die or reach an edge during this iteration\n",
    "        branchesToAdd = []  # coordinates of the branches that will be created (by duplication) during this iteration\n",
    "        for branchId, (x, y) in enumerate(unfixedBranches):\n",
    "            assert not (x == 0 or x == L or y == 0 or y == L)  # we shouldn't be on an edge\n",
    "            rand = random.random()\n",
    "            if 0 <= rand < 1/3:\n",
    "                # Move the branch left, right, up or down.\n",
    "                if 0 <= rand < 1/12:\n",
    "                    x -= 1  # go left\n",
    "                elif 1/12 <= rand < 2/12:\n",
    "                    x += 1  # go right\n",
    "                elif 2/12 <= rand < 3/12:\n",
    "                    y -= 1  # go down\n",
    "                else:\n",
    "                    y += 1  # go up\n",
    "                if is_on_edge(x, y, L):\n",
    "                    # We've just reached an edge.\n",
    "                    branchesToDelete.append(branchId)\n",
    "                    fixedBranches.append([x, y])\n",
    "                else:\n",
    "                    unfixedBranches[branchId] = [x, y]\n",
    "\n",
    "            elif 1/3 <= rand < 2/3:\n",
    "                # This branch dies\n",
    "                branchesToDelete.append(branchId)\n",
    "            else:\n",
    "                # Duplicate this branch\n",
    "                branchesToAdd.append([x,y])\n",
    "        # Remove the dead branches\n",
    "        unfixedBranches = [branch for i, branch in enumerate(unfixedBranches) if i not in branchesToDelete]\n",
    "        # Add the newly created branches\n",
    "        unfixedBranches += branchesToAdd\n",
    "    \n",
    "    # All branched are fixed or dead.\n",
    "    # Have all branches died before reaching an edge?\n",
    "    if len(fixedBranches) == 0:\n",
    "        return 0\n",
    "    # Some branches have reached an edge. Compute the product of their values.\n",
    "    product = 1\n",
    "    for x, y in fixedBranches:\n",
    "        product *= phi(x, y, L)\n",
    "    return product"
   ]
  },
  {
   "cell_type": "code",
   "execution_count": 5,
   "metadata": {},
   "outputs": [],
   "source": [
    "def monte_carlo(x, y, L, K):\n",
    "    \"\"\"Simulate K times on point (x, y) and return the average result.\"\"\"\n",
    "    sum = 0\n",
    "    for _ in range(K):\n",
    "        sum += value_on_points_reached(x, y, L)\n",
    "    return sum/K"
   ]
  },
  {
   "cell_type": "code",
   "execution_count": 6,
   "metadata": {},
   "outputs": [],
   "source": [
    "def approximate_solution(L, K):\n",
    "    start = time.time()\n",
    "    averages = np.zeros((L, L))\n",
    "    for x in range(L):\n",
    "        for y in range(L):\n",
    "            averages[x][y] = monte_carlo(x, y, L, K)\n",
    "        nowm = int((time.time() - start) // 60)\n",
    "        nows = int((time.time() - start) % 60)\n",
    "        print(\"x = {:2}/{} done, elapsed time = {:2}m {:2}s\".format(x, L-1, nowm, nows))\n",
    "    return averages"
   ]
  },
  {
   "cell_type": "code",
   "execution_count": 7,
   "metadata": {},
   "outputs": [],
   "source": [
    "def plot_approximate_solution(L, K):\n",
    "    plt.imshow(approximate_solution(L, K).T, origin=\"lower\",\n",
    "               extent=[0, 1, 0, 1], cmap=\"jet\")\n",
    "    plt.show()"
   ]
  },
  {
   "cell_type": "code",
   "execution_count": 8,
   "metadata": {
    "scrolled": false
   },
   "outputs": [
    {
     "name": "stdout",
     "output_type": "stream",
     "text": [
      "L = 30, K = 100\n",
      "x =  0/29 done, elapsed time =  0m  0s\n",
      "x =  1/29 done, elapsed time =  0m  0s\n",
      "x =  2/29 done, elapsed time =  0m  1s\n",
      "x =  3/29 done, elapsed time =  0m  2s\n",
      "x =  4/29 done, elapsed time =  0m  3s\n",
      "x =  5/29 done, elapsed time =  0m  5s\n",
      "x =  6/29 done, elapsed time =  0m  7s\n",
      "x =  7/29 done, elapsed time =  0m  8s\n",
      "x =  8/29 done, elapsed time =  0m  9s\n",
      "x =  9/29 done, elapsed time =  0m 10s\n",
      "x = 10/29 done, elapsed time =  0m 13s\n",
      "x = 11/29 done, elapsed time =  0m 16s\n",
      "x = 12/29 done, elapsed time =  0m 20s\n",
      "x = 13/29 done, elapsed time =  0m 21s\n",
      "x = 14/29 done, elapsed time =  0m 22s\n",
      "x = 15/29 done, elapsed time =  0m 23s\n",
      "x = 16/29 done, elapsed time =  0m 27s\n",
      "x = 17/29 done, elapsed time =  0m 29s\n",
      "x = 18/29 done, elapsed time =  0m 31s\n",
      "x = 19/29 done, elapsed time =  0m 34s\n",
      "x = 20/29 done, elapsed time =  0m 37s\n",
      "x = 21/29 done, elapsed time =  0m 38s\n",
      "x = 22/29 done, elapsed time =  0m 39s\n",
      "x = 23/29 done, elapsed time =  0m 40s\n",
      "x = 24/29 done, elapsed time =  0m 44s\n",
      "x = 25/29 done, elapsed time =  0m 45s\n",
      "x = 26/29 done, elapsed time =  0m 46s\n",
      "x = 27/29 done, elapsed time =  0m 47s\n",
      "x = 28/29 done, elapsed time =  0m 48s\n",
      "x = 29/29 done, elapsed time =  0m 48s\n"
     ]
    },
    {
     "data": {
      "image/png": "[encoded data removed]",
      "text/plain": [
       "<Figure size 432x288 with 1 Axes>"
      ]
     },
     "metadata": {},
     "output_type": "display_data"
    }
   ],
   "source": [
    "def test():\n",
    "    \"\"\"Main function.\"\"\"\n",
    "    L = 30  # discretize with squares of length 1/L\n",
    "    K = 100  # number of simulations per point to compute the average result\n",
    "    print(\"L = {}, K = {}\".format(L, K))\n",
    "    plot_approximate_solution(L, K)\n",
    "    \n",
    "if __name__ == \"__main__\":\n",
    "    test()"
   ]
  }
 ],
 "metadata": {
  "kernelspec": {
   "display_name": "Python 3",
   "language": "python",
   "name": "python3"
  },
  "language_info": {
   "codemirror_mode": {
    "name": "ipython",
    "version": 3
   },
   "file_extension": ".py",
   "mimetype": "text/x-python",
   "name": "python",
   "nbconvert_exporter": "python",
   "pygments_lexer": "ipython3",
   "version": "3.6.5"
  }
 },
 "nbformat": 4,
 "nbformat_minor": 2
}
