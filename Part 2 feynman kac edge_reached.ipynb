{
 "cells": [
  {
   "cell_type": "code",
   "execution_count": 1,
   "metadata": {},
   "outputs": [],
   "source": [
    "import random\n",
    "import numpy as np\n",
    "import time\n",
    "\n",
    "from PIL import Image\n",
    "from ipywidgets import interact, interactive, fixed, interact_manual\n",
    "from ipywidgets import interact\n",
    "import ipywidgets as widgets\n",
    "%matplotlib inline"
   ]
  },
  {
   "cell_type": "code",
   "execution_count": 2,
   "metadata": {},
   "outputs": [],
   "source": [
    "def phi(x, y, L):\n",
    "    \"\"\"Edge function.\"\"\"\n",
    "    assert x == 0 or x == L or y == 0 or y == L\n",
    "    if x == 0 or x == L:\n",
    "        return 1\n",
    "    return 0"
   ]
  },
  {
   "cell_type": "code",
   "execution_count": 6,
   "metadata": {},
   "outputs": [],
   "source": [
    "def value_on_point_reached(x, y, L, beta):\n",
    "\n",
    "    number_non_touches = 0\n",
    "    for j in range(n):\n",
    "        coordList.append([x,y])\n",
    "        if x != 0 and y != 0 and y != L and x != L: # in that case the walk's fate is sealed\n",
    "            number_non_touches += 1\n",
    "            rand = random.random()\n",
    "            # Go with equal probability left, up, right or down\n",
    "            if 0 <= rand < 0.25:\n",
    "                x -= 1\n",
    "            elif 0.25 <= rand < 0.5:\n",
    "                x += 1\n",
    "            elif 0.5 <= rand < 0.75:\n",
    "                y -= 1\n",
    "            else:\n",
    "                y += 1\n",
    "                \n",
    "        vphi(np.array([coord[0] for coord in coordList]),np.array([coord[1] for coord in coordList]), L)*np.exp(- beta*np.arange(n+1))\n",
    "    return np.exp(-beta*)"
   ]
  },
  {
   "cell_type": "code",
   "execution_count": null,
   "metadata": {},
   "outputs": [],
   "source": [
    "def monte_carlo(x, y, L, beta, K):\n",
    "    \"\"\"Simulate K times on point (x, y) and return the average result.\"\"\"\n",
    "    sum = 0\n",
    "    for _ in range(K):\n",
    "        sum += value_on_point_reached(x, y, L, beta)\n",
    "    return sum/K"
   ]
  },
  {
   "cell_type": "code",
   "execution_count": 4,
   "metadata": {},
   "outputs": [],
   "source": [
    "def approximate_solution(L, beta, K):\n",
    "    start = time.time()\n",
    "    averages = np.zeros((L, L))\n",
    "    for x in range(L):\n",
    "        for y in range(L):\n",
    "            averages[x][y] = monte_carlo(x, y, L, beta, K)\n",
    "    print(\"time L = {} K = {}: {:.2f}s\".format(L, K, time.time() - start))\n",
    "    return averages"
   ]
  },
  {
   "cell_type": "code",
   "execution_count": 7,
   "metadata": {},
   "outputs": [],
   "source": [
    "def plot_approximate_solution(L, beta, K):\n",
    "    plt.imshow(approximate_solution(L, beta, K).T, origin=\"lower\",\n",
    "               extent=[0, 1, 0, 1], cmap=\"jet\")\n",
    "    plt.show()"
   ]
  },
  {
   "cell_type": "code",
   "execution_count": null,
   "metadata": {
    "scrolled": true
   },
   "outputs": [],
   "source": [
    "def test():\n",
    "    \"\"\"Main function.\"\"\"\n",
    "    L = 50  # discretize with squares of length 1/L\n",
    "    K = 100  # number of simulations per point to compute the average result\n",
    "    gamma = 100\n",
    "    beta = np.log(gamma/(L**2) + 1)\n",
    "    plot_approximate_solution(L, beta, K)\n",
    "    \n",
    "if __name__ == \"__main__\":\n",
    "    test()"
   ]
  },
  {
   "cell_type": "code",
   "execution_count": null,
   "metadata": {},
   "outputs": [],
   "source": []
  }
 ],
 "metadata": {
  "kernelspec": {
   "display_name": "Python 3",
   "language": "python",
   "name": "python3"
  },
  "language_info": {
   "codemirror_mode": {
    "name": "ipython",
    "version": 3
   },
   "file_extension": ".py",
   "mimetype": "text/x-python",
   "name": "python",
   "nbconvert_exporter": "python",
   "pygments_lexer": "ipython3",
   "version": "3.6.5"
  }
 },
 "nbformat": 4,
 "nbformat_minor": 2
}
